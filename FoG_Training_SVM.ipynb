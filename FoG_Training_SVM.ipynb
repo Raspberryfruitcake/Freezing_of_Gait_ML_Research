{
 "cells": [
  {
   "cell_type": "code",
   "execution_count": 1,
   "id": "b4c33660",
   "metadata": {},
   "outputs": [],
   "source": [
    "import numpy as np\n",
    "import pandas as pd\n",
    "import matplotlib.pyplot as plt\n",
    "import seaborn as sb\n",
    "import os\n",
    "import joblib\n",
    "import gc\n",
    "import warnings\n",
    "import sys\n",
    "warnings.filterwarnings('ignore')\n",
    "import math\n",
    "from sklearn.svm import SVC\n",
    "from sklearn.neighbors import KNeighborsClassifier\n",
    "from sklearn.ensemble import AdaBoostClassifier\n",
    "from sklearn.model_selection import train_test_split\n",
    "from sklearn.model_selection import train_test_split\n",
    "from sklearn.preprocessing import StandardScaler\n",
    "from imblearn.over_sampling import RandomOverSampler\n",
    "from sklearn.model_selection import train_test_split\n",
    "from sklearn.ensemble import RandomForestClassifier\n",
    "from sklearn.model_selection import cross_val_score\n",
    "from sklearn.metrics import matthews_corrcoef\n",
    "from sklearn.metrics import confusion_matrix,classification_report\n",
    "from functools import partial\n",
    "from xgboost import XGBClassifier\n",
    "from lightgbm import LGBMClassifier\n",
    "from sklearn.tree import DecisionTreeClassifier\n",
    "from joblib import parallel_backend\n",
    "import dill\n",
    "from sklearn.metrics import accuracy_score, precision_score, recall_score, f1_score\n",
    "from sklearn.metrics import make_scorer\n",
    "from sklearn.experimental import enable_halving_search_cv\n",
    "from sklearn.model_selection import HalvingGridSearchCV\n",
    "from sklearn.model_selection import GridSearchCV\n",
    "import optuna\n",
    "from sklearn.model_selection import train_test_split\n",
    "from sklearn.svm import SVC\n",
    "from sklearn.metrics import accuracy_score\n",
    "from imblearn.over_sampling import SMOTE\n",
    "import pickle\n",
    "from sklearn.metrics import confusion_matrix\n",
    "sb.set()"
   ]
  },
  {
   "cell_type": "code",
   "execution_count": 2,
   "id": "22e380a8",
   "metadata": {},
   "outputs": [
    {
     "data": {
      "text/html": [
       "<div>\n",
       "<style scoped>\n",
       "    .dataframe tbody tr th:only-of-type {\n",
       "        vertical-align: middle;\n",
       "    }\n",
       "\n",
       "    .dataframe tbody tr th {\n",
       "        vertical-align: top;\n",
       "    }\n",
       "\n",
       "    .dataframe thead th {\n",
       "        text-align: right;\n",
       "    }\n",
       "</style>\n",
       "<table border=\"1\" class=\"dataframe\">\n",
       "  <thead>\n",
       "    <tr style=\"text-align: right;\">\n",
       "      <th></th>\n",
       "      <th>0</th>\n",
       "      <th>mean_A_F</th>\n",
       "      <th>max_A_F</th>\n",
       "      <th>min_A_F</th>\n",
       "      <th>var_A_F</th>\n",
       "      <th>std_A_F</th>\n",
       "      <th>rms_A_F</th>\n",
       "      <th>mav_A_F</th>\n",
       "      <th>zcr_A_F</th>\n",
       "      <th>p2p_A_F</th>\n",
       "      <th>...</th>\n",
       "      <th>spectral_kurtosis_T_F</th>\n",
       "      <th>bandpower_T_F</th>\n",
       "      <th>PSD_T_V</th>\n",
       "      <th>spectral_spread_T_V</th>\n",
       "      <th>spectral_kurtosis_T_V</th>\n",
       "      <th>bandpower_T_V</th>\n",
       "      <th>PSD_T_L</th>\n",
       "      <th>spectral_spread_T_L</th>\n",
       "      <th>spectral_kurtosis_T_L</th>\n",
       "      <th>bandpower_T_L</th>\n",
       "    </tr>\n",
       "  </thead>\n",
       "  <tbody>\n",
       "    <tr>\n",
       "      <th>1</th>\n",
       "      <td>0</td>\n",
       "      <td>-173.968750</td>\n",
       "      <td>-161</td>\n",
       "      <td>-191</td>\n",
       "      <td>67.749023</td>\n",
       "      <td>8.230979</td>\n",
       "      <td>174.163357</td>\n",
       "      <td>173.968750</td>\n",
       "      <td>0.0</td>\n",
       "      <td>30</td>\n",
       "      <td>...</td>\n",
       "      <td>-1.279370</td>\n",
       "      <td>96.494643</td>\n",
       "      <td>88.051405</td>\n",
       "      <td>8.557427</td>\n",
       "      <td>-0.872340</td>\n",
       "      <td>89.489531</td>\n",
       "      <td>136.257608</td>\n",
       "      <td>9.806951</td>\n",
       "      <td>-1.097899</td>\n",
       "      <td>138.768663</td>\n",
       "    </tr>\n",
       "    <tr>\n",
       "      <th>2</th>\n",
       "      <td>0</td>\n",
       "      <td>-175.250000</td>\n",
       "      <td>-151</td>\n",
       "      <td>-202</td>\n",
       "      <td>88.531250</td>\n",
       "      <td>9.409105</td>\n",
       "      <td>175.502404</td>\n",
       "      <td>175.250000</td>\n",
       "      <td>0.0</td>\n",
       "      <td>51</td>\n",
       "      <td>...</td>\n",
       "      <td>-0.865323</td>\n",
       "      <td>56.195788</td>\n",
       "      <td>63.713318</td>\n",
       "      <td>7.871782</td>\n",
       "      <td>-0.394283</td>\n",
       "      <td>63.921791</td>\n",
       "      <td>74.847254</td>\n",
       "      <td>9.314909</td>\n",
       "      <td>-0.680520</td>\n",
       "      <td>75.500136</td>\n",
       "    </tr>\n",
       "    <tr>\n",
       "      <th>3</th>\n",
       "      <td>0</td>\n",
       "      <td>-163.968750</td>\n",
       "      <td>-141</td>\n",
       "      <td>-181</td>\n",
       "      <td>89.624023</td>\n",
       "      <td>9.466997</td>\n",
       "      <td>164.241819</td>\n",
       "      <td>163.968750</td>\n",
       "      <td>0.0</td>\n",
       "      <td>40</td>\n",
       "      <td>...</td>\n",
       "      <td>5.093917</td>\n",
       "      <td>344.585264</td>\n",
       "      <td>65.109948</td>\n",
       "      <td>9.225050</td>\n",
       "      <td>-1.171882</td>\n",
       "      <td>66.581253</td>\n",
       "      <td>218.366460</td>\n",
       "      <td>9.725060</td>\n",
       "      <td>-0.927582</td>\n",
       "      <td>225.153998</td>\n",
       "    </tr>\n",
       "    <tr>\n",
       "      <th>4</th>\n",
       "      <td>0</td>\n",
       "      <td>-160.375000</td>\n",
       "      <td>-141</td>\n",
       "      <td>-191</td>\n",
       "      <td>118.359375</td>\n",
       "      <td>10.879309</td>\n",
       "      <td>160.743585</td>\n",
       "      <td>160.375000</td>\n",
       "      <td>0.0</td>\n",
       "      <td>50</td>\n",
       "      <td>...</td>\n",
       "      <td>13.650000</td>\n",
       "      <td>633.804876</td>\n",
       "      <td>64.618683</td>\n",
       "      <td>8.919283</td>\n",
       "      <td>-0.940924</td>\n",
       "      <td>63.942849</td>\n",
       "      <td>218.073292</td>\n",
       "      <td>8.902031</td>\n",
       "      <td>0.603874</td>\n",
       "      <td>216.260808</td>\n",
       "    </tr>\n",
       "    <tr>\n",
       "      <th>5</th>\n",
       "      <td>0</td>\n",
       "      <td>-180.484375</td>\n",
       "      <td>-161</td>\n",
       "      <td>-202</td>\n",
       "      <td>138.593506</td>\n",
       "      <td>11.772574</td>\n",
       "      <td>180.867916</td>\n",
       "      <td>180.484375</td>\n",
       "      <td>0.0</td>\n",
       "      <td>41</td>\n",
       "      <td>...</td>\n",
       "      <td>5.606094</td>\n",
       "      <td>491.672603</td>\n",
       "      <td>144.043261</td>\n",
       "      <td>9.642371</td>\n",
       "      <td>-1.334032</td>\n",
       "      <td>141.936111</td>\n",
       "      <td>265.252185</td>\n",
       "      <td>7.097721</td>\n",
       "      <td>1.180612</td>\n",
       "      <td>271.647464</td>\n",
       "    </tr>\n",
       "    <tr>\n",
       "      <th>...</th>\n",
       "      <td>...</td>\n",
       "      <td>...</td>\n",
       "      <td>...</td>\n",
       "      <td>...</td>\n",
       "      <td>...</td>\n",
       "      <td>...</td>\n",
       "      <td>...</td>\n",
       "      <td>...</td>\n",
       "      <td>...</td>\n",
       "      <td>...</td>\n",
       "      <td>...</td>\n",
       "      <td>...</td>\n",
       "      <td>...</td>\n",
       "      <td>...</td>\n",
       "      <td>...</td>\n",
       "      <td>...</td>\n",
       "      <td>...</td>\n",
       "      <td>...</td>\n",
       "      <td>...</td>\n",
       "      <td>...</td>\n",
       "      <td>...</td>\n",
       "    </tr>\n",
       "    <tr>\n",
       "      <th>10559</th>\n",
       "      <td>1</td>\n",
       "      <td>242.250000</td>\n",
       "      <td>2848</td>\n",
       "      <td>-1181</td>\n",
       "      <td>327142.093750</td>\n",
       "      <td>571.963367</td>\n",
       "      <td>621.149866</td>\n",
       "      <td>367.156250</td>\n",
       "      <td>3.0</td>\n",
       "      <td>4029</td>\n",
       "      <td>...</td>\n",
       "      <td>3.584311</td>\n",
       "      <td>14651.951783</td>\n",
       "      <td>21151.398069</td>\n",
       "      <td>6.277861</td>\n",
       "      <td>0.883775</td>\n",
       "      <td>21361.361570</td>\n",
       "      <td>8098.965874</td>\n",
       "      <td>7.657653</td>\n",
       "      <td>0.165531</td>\n",
       "      <td>8014.746988</td>\n",
       "    </tr>\n",
       "    <tr>\n",
       "      <th>10560</th>\n",
       "      <td>1</td>\n",
       "      <td>334.640625</td>\n",
       "      <td>2616</td>\n",
       "      <td>-939</td>\n",
       "      <td>300198.136475</td>\n",
       "      <td>547.903401</td>\n",
       "      <td>642.014396</td>\n",
       "      <td>431.171875</td>\n",
       "      <td>2.0</td>\n",
       "      <td>3555</td>\n",
       "      <td>...</td>\n",
       "      <td>17.804934</td>\n",
       "      <td>6753.460860</td>\n",
       "      <td>7302.111771</td>\n",
       "      <td>3.780667</td>\n",
       "      <td>7.219301</td>\n",
       "      <td>7446.247857</td>\n",
       "      <td>2691.128789</td>\n",
       "      <td>7.695633</td>\n",
       "      <td>-0.262886</td>\n",
       "      <td>2824.954003</td>\n",
       "    </tr>\n",
       "    <tr>\n",
       "      <th>10561</th>\n",
       "      <td>1</td>\n",
       "      <td>373.515625</td>\n",
       "      <td>3616</td>\n",
       "      <td>-1757</td>\n",
       "      <td>650379.812256</td>\n",
       "      <td>806.461290</td>\n",
       "      <td>888.759661</td>\n",
       "      <td>558.359375</td>\n",
       "      <td>4.0</td>\n",
       "      <td>5373</td>\n",
       "      <td>...</td>\n",
       "      <td>22.147079</td>\n",
       "      <td>8721.484677</td>\n",
       "      <td>7563.168185</td>\n",
       "      <td>4.492189</td>\n",
       "      <td>1.965671</td>\n",
       "      <td>7727.781379</td>\n",
       "      <td>2745.258900</td>\n",
       "      <td>6.347818</td>\n",
       "      <td>3.202689</td>\n",
       "      <td>2665.622007</td>\n",
       "    </tr>\n",
       "    <tr>\n",
       "      <th>10562</th>\n",
       "      <td>1</td>\n",
       "      <td>402.265625</td>\n",
       "      <td>4111</td>\n",
       "      <td>-1747</td>\n",
       "      <td>902242.913818</td>\n",
       "      <td>949.864682</td>\n",
       "      <td>1031.533105</td>\n",
       "      <td>621.828125</td>\n",
       "      <td>4.0</td>\n",
       "      <td>5858</td>\n",
       "      <td>...</td>\n",
       "      <td>22.837088</td>\n",
       "      <td>11586.049003</td>\n",
       "      <td>4801.245306</td>\n",
       "      <td>5.257542</td>\n",
       "      <td>8.880867</td>\n",
       "      <td>4621.252143</td>\n",
       "      <td>6055.613588</td>\n",
       "      <td>6.643926</td>\n",
       "      <td>0.842814</td>\n",
       "      <td>6058.026124</td>\n",
       "    </tr>\n",
       "    <tr>\n",
       "      <th>10563</th>\n",
       "      <td>1</td>\n",
       "      <td>243.015625</td>\n",
       "      <td>2202</td>\n",
       "      <td>-1111</td>\n",
       "      <td>286207.546631</td>\n",
       "      <td>534.983688</td>\n",
       "      <td>587.591815</td>\n",
       "      <td>373.609375</td>\n",
       "      <td>3.0</td>\n",
       "      <td>3313</td>\n",
       "      <td>...</td>\n",
       "      <td>5.392213</td>\n",
       "      <td>6691.884547</td>\n",
       "      <td>5594.843388</td>\n",
       "      <td>5.030229</td>\n",
       "      <td>5.882323</td>\n",
       "      <td>5349.688783</td>\n",
       "      <td>3007.388472</td>\n",
       "      <td>5.539828</td>\n",
       "      <td>2.308716</td>\n",
       "      <td>2681.521110</td>\n",
       "    </tr>\n",
       "  </tbody>\n",
       "</table>\n",
       "<p>10444 rows × 424 columns</p>\n",
       "</div>"
      ],
      "text/plain": [
       "       0    mean_A_F  max_A_F  min_A_F        var_A_F     std_A_F  \\\n",
       "1      0 -173.968750     -161     -191      67.749023    8.230979   \n",
       "2      0 -175.250000     -151     -202      88.531250    9.409105   \n",
       "3      0 -163.968750     -141     -181      89.624023    9.466997   \n",
       "4      0 -160.375000     -141     -191     118.359375   10.879309   \n",
       "5      0 -180.484375     -161     -202     138.593506   11.772574   \n",
       "...   ..         ...      ...      ...            ...         ...   \n",
       "10559  1  242.250000     2848    -1181  327142.093750  571.963367   \n",
       "10560  1  334.640625     2616     -939  300198.136475  547.903401   \n",
       "10561  1  373.515625     3616    -1757  650379.812256  806.461290   \n",
       "10562  1  402.265625     4111    -1747  902242.913818  949.864682   \n",
       "10563  1  243.015625     2202    -1111  286207.546631  534.983688   \n",
       "\n",
       "           rms_A_F     mav_A_F  zcr_A_F  p2p_A_F  ...  spectral_kurtosis_T_F  \\\n",
       "1       174.163357  173.968750      0.0       30  ...              -1.279370   \n",
       "2       175.502404  175.250000      0.0       51  ...              -0.865323   \n",
       "3       164.241819  163.968750      0.0       40  ...               5.093917   \n",
       "4       160.743585  160.375000      0.0       50  ...              13.650000   \n",
       "5       180.867916  180.484375      0.0       41  ...               5.606094   \n",
       "...            ...         ...      ...      ...  ...                    ...   \n",
       "10559   621.149866  367.156250      3.0     4029  ...               3.584311   \n",
       "10560   642.014396  431.171875      2.0     3555  ...              17.804934   \n",
       "10561   888.759661  558.359375      4.0     5373  ...              22.147079   \n",
       "10562  1031.533105  621.828125      4.0     5858  ...              22.837088   \n",
       "10563   587.591815  373.609375      3.0     3313  ...               5.392213   \n",
       "\n",
       "       bandpower_T_F       PSD_T_V  spectral_spread_T_V  \\\n",
       "1          96.494643     88.051405             8.557427   \n",
       "2          56.195788     63.713318             7.871782   \n",
       "3         344.585264     65.109948             9.225050   \n",
       "4         633.804876     64.618683             8.919283   \n",
       "5         491.672603    144.043261             9.642371   \n",
       "...              ...           ...                  ...   \n",
       "10559   14651.951783  21151.398069             6.277861   \n",
       "10560    6753.460860   7302.111771             3.780667   \n",
       "10561    8721.484677   7563.168185             4.492189   \n",
       "10562   11586.049003   4801.245306             5.257542   \n",
       "10563    6691.884547   5594.843388             5.030229   \n",
       "\n",
       "       spectral_kurtosis_T_V  bandpower_T_V      PSD_T_L  spectral_spread_T_L  \\\n",
       "1                  -0.872340      89.489531   136.257608             9.806951   \n",
       "2                  -0.394283      63.921791    74.847254             9.314909   \n",
       "3                  -1.171882      66.581253   218.366460             9.725060   \n",
       "4                  -0.940924      63.942849   218.073292             8.902031   \n",
       "5                  -1.334032     141.936111   265.252185             7.097721   \n",
       "...                      ...            ...          ...                  ...   \n",
       "10559               0.883775   21361.361570  8098.965874             7.657653   \n",
       "10560               7.219301    7446.247857  2691.128789             7.695633   \n",
       "10561               1.965671    7727.781379  2745.258900             6.347818   \n",
       "10562               8.880867    4621.252143  6055.613588             6.643926   \n",
       "10563               5.882323    5349.688783  3007.388472             5.539828   \n",
       "\n",
       "       spectral_kurtosis_T_L  bandpower_T_L  \n",
       "1                  -1.097899     138.768663  \n",
       "2                  -0.680520      75.500136  \n",
       "3                  -0.927582     225.153998  \n",
       "4                   0.603874     216.260808  \n",
       "5                   1.180612     271.647464  \n",
       "...                      ...            ...  \n",
       "10559               0.165531    8014.746988  \n",
       "10560              -0.262886    2824.954003  \n",
       "10561               3.202689    2665.622007  \n",
       "10562               0.842814    6058.026124  \n",
       "10563               2.308716    2681.521110  \n",
       "\n",
       "[10444 rows x 424 columns]"
      ]
     },
     "execution_count": 2,
     "metadata": {},
     "output_type": "execute_result"
    }
   ],
   "source": [
    "time_1=pd.read_csv(r\"C:\\Users\\Admin\\Desktop\\Labelled_Files\\features\\time_1.csv\")\n",
    "freq_1=pd.read_csv(r\"C:\\Users\\Admin\\Desktop\\Labelled_Files\\features\\freq_1.csv\")\n",
    "\n",
    "combined_1 = pd.concat([time_1, freq_1], axis=1)\n",
    "combined_1=combined_1[combined_1['0']!=2]\n",
    "combined_1.dropna(inplace=True)\n",
    "combined_1"
   ]
  },
  {
   "cell_type": "code",
   "execution_count": 3,
   "id": "e3e18b1a",
   "metadata": {},
   "outputs": [
    {
     "data": {
      "image/png": "[encoded data removed]",
      "text/plain": [
       "<Figure size 640x480 with 1 Axes>"
      ]
     },
     "metadata": {},
     "output_type": "display_data"
    }
   ],
   "source": [
    "X_train = combined_1.drop('0', axis=1)\n",
    "y_train = combined_1['0']\n",
    "\n",
    "sb.countplot(data=pd.DataFrame(y_train), x='0')\n",
    "plt.show()"
   ]
  },
  {
   "cell_type": "code",
   "execution_count": 4,
   "id": "e63ef8a4",
   "metadata": {},
   "outputs": [],
   "source": [
    "smote = SMOTE(random_state=42)\n",
    "X_train, y_train = smote.fit_resample(X_train, y_train)"
   ]
  },
  {
   "cell_type": "code",
   "execution_count": 5,
   "id": "cedf2195",
   "metadata": {},
   "outputs": [
    {
     "data": {
      "image/png": "[encoded data removed]",
      "text/plain": [
       "<Figure size 640x480 with 1 Axes>"
      ]
     },
     "metadata": {},
     "output_type": "display_data"
    }
   ],
   "source": [
    "sb.countplot(data=pd.DataFrame(y_train), x='0')\n",
    "plt.show()"
   ]
  },
  {
   "cell_type": "code",
   "execution_count": 6,
   "id": "b3b946a2",
   "metadata": {},
   "outputs": [],
   "source": [
    "scaler = StandardScaler()\n",
    "\n",
    "X_train = scaler.fit_transform(X_train)"
   ]
  },
  {
   "cell_type": "code",
   "execution_count": 7,
   "id": "4a815d48",
   "metadata": {},
   "outputs": [
    {
     "data": {
      "text/html": [
       "<div>\n",
       "<style scoped>\n",
       "    .dataframe tbody tr th:only-of-type {\n",
       "        vertical-align: middle;\n",
       "    }\n",
       "\n",
       "    .dataframe tbody tr th {\n",
       "        vertical-align: top;\n",
       "    }\n",
       "\n",
       "    .dataframe thead th {\n",
       "        text-align: right;\n",
       "    }\n",
       "</style>\n",
       "<table border=\"1\" class=\"dataframe\">\n",
       "  <thead>\n",
       "    <tr style=\"text-align: right;\">\n",
       "      <th></th>\n",
       "      <th>0</th>\n",
       "      <th>mean_A_F</th>\n",
       "      <th>max_A_F</th>\n",
       "      <th>min_A_F</th>\n",
       "      <th>var_A_F</th>\n",
       "      <th>std_A_F</th>\n",
       "      <th>rms_A_F</th>\n",
       "      <th>mav_A_F</th>\n",
       "      <th>zcr_A_F</th>\n",
       "      <th>p2p_A_F</th>\n",
       "      <th>...</th>\n",
       "      <th>spectral_kurtosis_T_F</th>\n",
       "      <th>bandpower_T_F</th>\n",
       "      <th>PSD_T_V</th>\n",
       "      <th>spectral_spread_T_V</th>\n",
       "      <th>spectral_kurtosis_T_V</th>\n",
       "      <th>bandpower_T_V</th>\n",
       "      <th>PSD_T_L</th>\n",
       "      <th>spectral_spread_T_L</th>\n",
       "      <th>spectral_kurtosis_T_L</th>\n",
       "      <th>bandpower_T_L</th>\n",
       "    </tr>\n",
       "  </thead>\n",
       "  <tbody>\n",
       "    <tr>\n",
       "      <th>1</th>\n",
       "      <td>0</td>\n",
       "      <td>-49.000000</td>\n",
       "      <td>40</td>\n",
       "      <td>-121</td>\n",
       "      <td>1248.468750</td>\n",
       "      <td>35.333677</td>\n",
       "      <td>60.410833</td>\n",
       "      <td>51.500000</td>\n",
       "      <td>3.0</td>\n",
       "      <td>161</td>\n",
       "      <td>...</td>\n",
       "      <td>10.039375</td>\n",
       "      <td>749.133121</td>\n",
       "      <td>401.868267</td>\n",
       "      <td>5.687177</td>\n",
       "      <td>3.065411</td>\n",
       "      <td>396.901626</td>\n",
       "      <td>407.636343</td>\n",
       "      <td>6.799307</td>\n",
       "      <td>-0.451582</td>\n",
       "      <td>410.023970</td>\n",
       "    </tr>\n",
       "    <tr>\n",
       "      <th>2</th>\n",
       "      <td>0</td>\n",
       "      <td>-48.437500</td>\n",
       "      <td>50</td>\n",
       "      <td>-90</td>\n",
       "      <td>763.183594</td>\n",
       "      <td>27.625778</td>\n",
       "      <td>55.761770</td>\n",
       "      <td>52.187500</td>\n",
       "      <td>1.0</td>\n",
       "      <td>140</td>\n",
       "      <td>...</td>\n",
       "      <td>2.147757</td>\n",
       "      <td>422.762913</td>\n",
       "      <td>472.885439</td>\n",
       "      <td>6.117379</td>\n",
       "      <td>4.352043</td>\n",
       "      <td>431.871326</td>\n",
       "      <td>583.876629</td>\n",
       "      <td>7.485470</td>\n",
       "      <td>0.887373</td>\n",
       "      <td>579.969943</td>\n",
       "    </tr>\n",
       "    <tr>\n",
       "      <th>3</th>\n",
       "      <td>0</td>\n",
       "      <td>-52.390625</td>\n",
       "      <td>40</td>\n",
       "      <td>-161</td>\n",
       "      <td>1289.019287</td>\n",
       "      <td>35.902915</td>\n",
       "      <td>63.512179</td>\n",
       "      <td>55.203125</td>\n",
       "      <td>2.0</td>\n",
       "      <td>201</td>\n",
       "      <td>...</td>\n",
       "      <td>18.137231</td>\n",
       "      <td>1518.442726</td>\n",
       "      <td>394.170673</td>\n",
       "      <td>5.880113</td>\n",
       "      <td>4.005669</td>\n",
       "      <td>397.543734</td>\n",
       "      <td>579.901794</td>\n",
       "      <td>7.172086</td>\n",
       "      <td>1.296841</td>\n",
       "      <td>631.137687</td>\n",
       "    </tr>\n",
       "    <tr>\n",
       "      <th>4</th>\n",
       "      <td>0</td>\n",
       "      <td>-58.656250</td>\n",
       "      <td>20</td>\n",
       "      <td>-141</td>\n",
       "      <td>675.444336</td>\n",
       "      <td>25.989312</td>\n",
       "      <td>64.156060</td>\n",
       "      <td>59.281250</td>\n",
       "      <td>1.0</td>\n",
       "      <td>161</td>\n",
       "      <td>...</td>\n",
       "      <td>4.501930</td>\n",
       "      <td>350.988400</td>\n",
       "      <td>300.569947</td>\n",
       "      <td>6.165776</td>\n",
       "      <td>2.724835</td>\n",
       "      <td>284.665987</td>\n",
       "      <td>453.666990</td>\n",
       "      <td>8.852153</td>\n",
       "      <td>-0.730138</td>\n",
       "      <td>471.165346</td>\n",
       "    </tr>\n",
       "    <tr>\n",
       "      <th>5</th>\n",
       "      <td>0</td>\n",
       "      <td>-62.484375</td>\n",
       "      <td>20</td>\n",
       "      <td>-151</td>\n",
       "      <td>936.156006</td>\n",
       "      <td>30.596667</td>\n",
       "      <td>69.573365</td>\n",
       "      <td>63.421875</td>\n",
       "      <td>2.0</td>\n",
       "      <td>171</td>\n",
       "      <td>...</td>\n",
       "      <td>15.865800</td>\n",
       "      <td>949.672028</td>\n",
       "      <td>480.210202</td>\n",
       "      <td>5.163164</td>\n",
       "      <td>5.378842</td>\n",
       "      <td>474.842192</td>\n",
       "      <td>285.089063</td>\n",
       "      <td>8.529474</td>\n",
       "      <td>-1.408363</td>\n",
       "      <td>293.566347</td>\n",
       "    </tr>\n",
       "    <tr>\n",
       "      <th>...</th>\n",
       "      <td>...</td>\n",
       "      <td>...</td>\n",
       "      <td>...</td>\n",
       "      <td>...</td>\n",
       "      <td>...</td>\n",
       "      <td>...</td>\n",
       "      <td>...</td>\n",
       "      <td>...</td>\n",
       "      <td>...</td>\n",
       "      <td>...</td>\n",
       "      <td>...</td>\n",
       "      <td>...</td>\n",
       "      <td>...</td>\n",
       "      <td>...</td>\n",
       "      <td>...</td>\n",
       "      <td>...</td>\n",
       "      <td>...</td>\n",
       "      <td>...</td>\n",
       "      <td>...</td>\n",
       "      <td>...</td>\n",
       "      <td>...</td>\n",
       "    </tr>\n",
       "    <tr>\n",
       "      <th>1852</th>\n",
       "      <td>1</td>\n",
       "      <td>-299.781250</td>\n",
       "      <td>80</td>\n",
       "      <td>-1070</td>\n",
       "      <td>43811.702148</td>\n",
       "      <td>209.312451</td>\n",
       "      <td>365.623440</td>\n",
       "      <td>304.156250</td>\n",
       "      <td>3.0</td>\n",
       "      <td>1150</td>\n",
       "      <td>...</td>\n",
       "      <td>20.866522</td>\n",
       "      <td>126349.878532</td>\n",
       "      <td>154590.605397</td>\n",
       "      <td>4.676570</td>\n",
       "      <td>4.297052</td>\n",
       "      <td>153533.391235</td>\n",
       "      <td>46108.460419</td>\n",
       "      <td>6.736600</td>\n",
       "      <td>4.565822</td>\n",
       "      <td>46469.677452</td>\n",
       "    </tr>\n",
       "    <tr>\n",
       "      <th>1853</th>\n",
       "      <td>1</td>\n",
       "      <td>-298.203125</td>\n",
       "      <td>151</td>\n",
       "      <td>-989</td>\n",
       "      <td>50521.161865</td>\n",
       "      <td>224.769130</td>\n",
       "      <td>373.425047</td>\n",
       "      <td>313.609375</td>\n",
       "      <td>3.0</td>\n",
       "      <td>1140</td>\n",
       "      <td>...</td>\n",
       "      <td>4.488984</td>\n",
       "      <td>50589.249008</td>\n",
       "      <td>70089.630000</td>\n",
       "      <td>3.847146</td>\n",
       "      <td>4.645833</td>\n",
       "      <td>71928.704278</td>\n",
       "      <td>38528.870572</td>\n",
       "      <td>7.259966</td>\n",
       "      <td>0.319513</td>\n",
       "      <td>38780.637364</td>\n",
       "    </tr>\n",
       "    <tr>\n",
       "      <th>1854</th>\n",
       "      <td>1</td>\n",
       "      <td>-299.328125</td>\n",
       "      <td>161</td>\n",
       "      <td>-949</td>\n",
       "      <td>44182.626709</td>\n",
       "      <td>210.196638</td>\n",
       "      <td>365.759420</td>\n",
       "      <td>306.234375</td>\n",
       "      <td>2.0</td>\n",
       "      <td>1110</td>\n",
       "      <td>...</td>\n",
       "      <td>7.248765</td>\n",
       "      <td>86768.504298</td>\n",
       "      <td>57969.145779</td>\n",
       "      <td>4.415949</td>\n",
       "      <td>8.643078</td>\n",
       "      <td>56178.405692</td>\n",
       "      <td>23618.170080</td>\n",
       "      <td>9.529694</td>\n",
       "      <td>-1.239337</td>\n",
       "      <td>22684.863966</td>\n",
       "    </tr>\n",
       "    <tr>\n",
       "      <th>1855</th>\n",
       "      <td>1</td>\n",
       "      <td>-283.046875</td>\n",
       "      <td>1565</td>\n",
       "      <td>-2373</td>\n",
       "      <td>375094.513428</td>\n",
       "      <td>612.449601</td>\n",
       "      <td>674.692557</td>\n",
       "      <td>455.515625</td>\n",
       "      <td>9.0</td>\n",
       "      <td>3938</td>\n",
       "      <td>...</td>\n",
       "      <td>8.339644</td>\n",
       "      <td>182392.340633</td>\n",
       "      <td>247674.315384</td>\n",
       "      <td>5.960941</td>\n",
       "      <td>0.283042</td>\n",
       "      <td>248462.406018</td>\n",
       "      <td>68573.477054</td>\n",
       "      <td>7.599953</td>\n",
       "      <td>-0.333362</td>\n",
       "      <td>65597.092918</td>\n",
       "    </tr>\n",
       "    <tr>\n",
       "      <th>1856</th>\n",
       "      <td>1</td>\n",
       "      <td>-292.125000</td>\n",
       "      <td>1373</td>\n",
       "      <td>-1656</td>\n",
       "      <td>193257.390625</td>\n",
       "      <td>439.610499</td>\n",
       "      <td>527.820430</td>\n",
       "      <td>388.906250</td>\n",
       "      <td>5.0</td>\n",
       "      <td>3029</td>\n",
       "      <td>...</td>\n",
       "      <td>7.425689</td>\n",
       "      <td>103706.412857</td>\n",
       "      <td>74290.049923</td>\n",
       "      <td>5.368923</td>\n",
       "      <td>3.336341</td>\n",
       "      <td>77374.281814</td>\n",
       "      <td>27849.599781</td>\n",
       "      <td>7.941028</td>\n",
       "      <td>-0.204353</td>\n",
       "      <td>29262.428936</td>\n",
       "    </tr>\n",
       "  </tbody>\n",
       "</table>\n",
       "<p>1856 rows × 424 columns</p>\n",
       "</div>"
      ],
      "text/plain": [
       "      0    mean_A_F  max_A_F  min_A_F        var_A_F     std_A_F     rms_A_F  \\\n",
       "1     0  -49.000000       40     -121    1248.468750   35.333677   60.410833   \n",
       "2     0  -48.437500       50      -90     763.183594   27.625778   55.761770   \n",
       "3     0  -52.390625       40     -161    1289.019287   35.902915   63.512179   \n",
       "4     0  -58.656250       20     -141     675.444336   25.989312   64.156060   \n",
       "5     0  -62.484375       20     -151     936.156006   30.596667   69.573365   \n",
       "...  ..         ...      ...      ...            ...         ...         ...   \n",
       "1852  1 -299.781250       80    -1070   43811.702148  209.312451  365.623440   \n",
       "1853  1 -298.203125      151     -989   50521.161865  224.769130  373.425047   \n",
       "1854  1 -299.328125      161     -949   44182.626709  210.196638  365.759420   \n",
       "1855  1 -283.046875     1565    -2373  375094.513428  612.449601  674.692557   \n",
       "1856  1 -292.125000     1373    -1656  193257.390625  439.610499  527.820430   \n",
       "\n",
       "         mav_A_F  zcr_A_F  p2p_A_F  ...  spectral_kurtosis_T_F  bandpower_T_F  \\\n",
       "1      51.500000      3.0      161  ...              10.039375     749.133121   \n",
       "2      52.187500      1.0      140  ...               2.147757     422.762913   \n",
       "3      55.203125      2.0      201  ...              18.137231    1518.442726   \n",
       "4      59.281250      1.0      161  ...               4.501930     350.988400   \n",
       "5      63.421875      2.0      171  ...              15.865800     949.672028   \n",
       "...          ...      ...      ...  ...                    ...            ...   \n",
       "1852  304.156250      3.0     1150  ...              20.866522  126349.878532   \n",
       "1853  313.609375      3.0     1140  ...               4.488984   50589.249008   \n",
       "1854  306.234375      2.0     1110  ...               7.248765   86768.504298   \n",
       "1855  455.515625      9.0     3938  ...               8.339644  182392.340633   \n",
       "1856  388.906250      5.0     3029  ...               7.425689  103706.412857   \n",
       "\n",
       "            PSD_T_V  spectral_spread_T_V  spectral_kurtosis_T_V  \\\n",
       "1        401.868267             5.687177               3.065411   \n",
       "2        472.885439             6.117379               4.352043   \n",
       "3        394.170673             5.880113               4.005669   \n",
       "4        300.569947             6.165776               2.724835   \n",
       "5        480.210202             5.163164               5.378842   \n",
       "...             ...                  ...                    ...   \n",
       "1852  154590.605397             4.676570               4.297052   \n",
       "1853   70089.630000             3.847146               4.645833   \n",
       "1854   57969.145779             4.415949               8.643078   \n",
       "1855  247674.315384             5.960941               0.283042   \n",
       "1856   74290.049923             5.368923               3.336341   \n",
       "\n",
       "      bandpower_T_V       PSD_T_L  spectral_spread_T_L  spectral_kurtosis_T_L  \\\n",
       "1        396.901626    407.636343             6.799307              -0.451582   \n",
       "2        431.871326    583.876629             7.485470               0.887373   \n",
       "3        397.543734    579.901794             7.172086               1.296841   \n",
       "4        284.665987    453.666990             8.852153              -0.730138   \n",
       "5        474.842192    285.089063             8.529474              -1.408363   \n",
       "...             ...           ...                  ...                    ...   \n",
       "1852  153533.391235  46108.460419             6.736600               4.565822   \n",
       "1853   71928.704278  38528.870572             7.259966               0.319513   \n",
       "1854   56178.405692  23618.170080             9.529694              -1.239337   \n",
       "1855  248462.406018  68573.477054             7.599953              -0.333362   \n",
       "1856   77374.281814  27849.599781             7.941028              -0.204353   \n",
       "\n",
       "      bandpower_T_L  \n",
       "1        410.023970  \n",
       "2        579.969943  \n",
       "3        631.137687  \n",
       "4        471.165346  \n",
       "5        293.566347  \n",
       "...             ...  \n",
       "1852   46469.677452  \n",
       "1853   38780.637364  \n",
       "1854   22684.863966  \n",
       "1855   65597.092918  \n",
       "1856   29262.428936  \n",
       "\n",
       "[1856 rows x 424 columns]"
      ]
     },
     "execution_count": 7,
     "metadata": {},
     "output_type": "execute_result"
    }
   ],
   "source": [
    "time_1=pd.read_csv(r\"C:\\Users\\Admin\\Desktop\\Labelled_Files_1\\features\\time_1.csv\")\n",
    "freq_1=pd.read_csv(r\"C:\\Users\\Admin\\Desktop\\Labelled_Files_1\\features\\freq_1.csv\")\n",
    "\n",
    "combined_1 = pd.concat([time_1, freq_1], axis=1)\n",
    "combined_1=combined_1[combined_1['0']!=2]\n",
    "combined_1.dropna(inplace=True)\n",
    "combined_1"
   ]
  },
  {
   "cell_type": "code",
   "execution_count": 8,
   "id": "90b69233",
   "metadata": {},
   "outputs": [
    {
     "data": {
      "image/png": "[encoded data removed]",
      "text/plain": [
       "<Figure size 640x480 with 1 Axes>"
      ]
     },
     "metadata": {},
     "output_type": "display_data"
    }
   ],
   "source": [
    "X_test = combined_1.drop('0', axis=1)\n",
    "y_test = combined_1['0']\n",
    "\n",
    "sb.countplot(data=pd.DataFrame(y_test), x='0')\n",
    "plt.show()"
   ]
  },
  {
   "cell_type": "code",
   "execution_count": 9,
   "id": "0dd3ee57",
   "metadata": {},
   "outputs": [],
   "source": [
    "smote = SMOTE(random_state=42)\n",
    "X_test, y_test = smote.fit_resample(X_test, y_test)"
   ]
  },
  {
   "cell_type": "code",
   "execution_count": 10,
   "id": "7efe0964",
   "metadata": {},
   "outputs": [
    {
     "data": {
      "image/png": "[encoded data removed]",
      "text/plain": [
       "<Figure size 640x480 with 1 Axes>"
      ]
     },
     "metadata": {},
     "output_type": "display_data"
    }
   ],
   "source": [
    "sb.countplot(data=pd.DataFrame(y_test), x='0')\n",
    "plt.show()"
   ]
  },
  {
   "cell_type": "code",
   "execution_count": 11,
   "id": "8b991baa",
   "metadata": {},
   "outputs": [],
   "source": [
    "scaler = StandardScaler()\n",
    "\n",
    "X_test = scaler.fit_transform(X_test)"
   ]
  },
  {
   "cell_type": "code",
   "execution_count": 12,
   "id": "51ba7b41",
   "metadata": {},
   "outputs": [],
   "source": [
    "def objective(trial):\n",
    "    # Define the hyperparameters to be tuned\n",
    "    C = trial.suggest_loguniform('C', 1e-5, 1e5)\n",
    "    kernel = trial.suggest_categorical('kernel', ['linear', 'poly', 'rbf', 'sigmoid'])\n",
    "    degree = trial.suggest_int('degree', 1, 7)\n",
    "    \n",
    "    # Additional hyperparameters\n",
    "    gamma = trial.suggest_loguniform('gamma', 1e-5, 1e5)  # applicable for 'rbf', 'poly', 'sigmoid'\n",
    "    shrinking = trial.suggest_categorical('shrinking', [True, False])\n",
    "    tol = trial.suggest_loguniform('tol', 1e-5, 1e-1)\n",
    "    decision_function_shape = trial.suggest_categorical('decision_function_shape', ['ovo', 'ovr'])\n",
    "    \n",
    "    model = SVC(C=C, kernel=kernel, degree=degree, gamma=gamma,\n",
    "                shrinking=shrinking, tol=tol, decision_function_shape=decision_function_shape, random_state=42, verbose=2)\n",
    "    model.fit(X_train, y_train)\n",
    "    \n",
    "    # Make predictions on the test set\n",
    "    y_pred = model.predict(X_test)\n",
    "    \n",
    "    # Calculate the accuracy as the objective to be optimized\n",
    "    accuracy = accuracy_score(y_test, y_pred)\n",
    "    sensitivity = confusion_matrix(y_test,y_pred)[1][1]/(confusion_matrix(y_test,y_pred)[1][1] + confusion_matrix(y_test,y_pred)[1][0])\n",
    "    specificity = confusion_matrix(y_test,y_pred)[0][0]/(confusion_matrix(y_test,y_pred)[0][0] + confusion_matrix(y_test,y_pred)[0][1])\n",
    "\n",
    "    mcc = matthews_corrcoef(y_test, y_pred)\n",
    "    return mcc + sensitivity + specificity"
   ]
  },
  {
   "cell_type": "code",
   "execution_count": null,
   "id": "34d77159",
   "metadata": {},
   "outputs": [
    {
     "name": "stderr",
     "output_type": "stream",
     "text": [
      "[I 2023-12-16 17:36:42,669] A new study created in memory with name: no-name-d1af8026-17c2-4451-931d-ea25b9cfd957\n"
     ]
    },
    {
     "name": "stdout",
     "output_type": "stream",
     "text": [
      "[LibSVM][LibSVM][LibSVM][LibSVM][LibSVM][LibSVM][LibSVM][LibSVM][LibSVM][LibSVM][LibSVM][LibSVM][LibSVM][LibSVM][LibSVM][LibSVM]"
     ]
    },
    {
     "name": "stderr",
     "output_type": "stream",
     "text": [
      "[I 2023-12-16 17:38:03,440] Trial 10 finished with value: 1.6400255611187435 and parameters: {'C': 663.9383698809676, 'kernel': 'poly', 'degree': 4, 'gamma': 20.592597018432883, 'shrinking': False, 'tol': 1.0000066667611382e-05, 'decision_function_shape': 'ovr'}. Best is trial 10 with value: 1.6400255611187435.\n"
     ]
    },
    {
     "name": "stdout",
     "output_type": "stream",
     "text": [
      "[LibSVM]"
     ]
    },
    {
     "name": "stderr",
     "output_type": "stream",
     "text": [
      "[I 2023-12-16 17:38:50,651] Trial 0 finished with value: 1.8690289157071724 and parameters: {'C': 0.0025846840596857826, 'kernel': 'linear', 'degree': 7, 'gamma': 0.3178047670620035, 'shrinking': True, 'tol': 0.022256980686165315, 'decision_function_shape': 'ovr'}. Best is trial 0 with value: 1.8690289157071724.\n"
     ]
    },
    {
     "name": "stdout",
     "output_type": "stream",
     "text": [
      "[LibSVM]"
     ]
    },
    {
     "name": "stderr",
     "output_type": "stream",
     "text": [
      "[I 2023-12-16 17:38:57,790] Trial 15 finished with value: 1.6802972611229579 and parameters: {'C': 8686.425162999014, 'kernel': 'poly', 'degree': 4, 'gamma': 0.000459213431267746, 'shrinking': True, 'tol': 0.022709770385968078, 'decision_function_shape': 'ovo'}. Best is trial 0 with value: 1.8690289157071724.\n"
     ]
    },
    {
     "name": "stdout",
     "output_type": "stream",
     "text": [
      "[LibSVM]"
     ]
    },
    {
     "name": "stderr",
     "output_type": "stream",
     "text": [
      "[I 2023-12-16 17:39:01,319] Trial 8 finished with value: 1.9986912359266658 and parameters: {'C': 24.80740391952468, 'kernel': 'rbf', 'degree': 2, 'gamma': 2.8094283745136456e-05, 'shrinking': False, 'tol': 0.0006204163467786933, 'decision_function_shape': 'ovr'}. Best is trial 8 with value: 1.9986912359266658.\n"
     ]
    },
    {
     "name": "stdout",
     "output_type": "stream",
     "text": [
      "[LibSVM]"
     ]
    },
    {
     "name": "stderr",
     "output_type": "stream",
     "text": [
      "[I 2023-12-16 17:39:05,308] Trial 2 finished with value: 1.7795065563701413 and parameters: {'C': 10.009383961912238, 'kernel': 'rbf', 'degree': 4, 'gamma': 0.006481241347291876, 'shrinking': True, 'tol': 0.002880459996237062, 'decision_function_shape': 'ovo'}. Best is trial 8 with value: 1.9986912359266658.\n"
     ]
    },
    {
     "name": "stdout",
     "output_type": "stream",
     "text": [
      "[LibSVM]"
     ]
    },
    {
     "name": "stderr",
     "output_type": "stream",
     "text": [
      "[I 2023-12-16 17:40:21,165] Trial 19 finished with value: 1.6272593302076288 and parameters: {'C': 0.010353670863527934, 'kernel': 'poly', 'degree': 4, 'gamma': 0.03291414347996102, 'shrinking': False, 'tol': 1.263291699330742e-05, 'decision_function_shape': 'ovr'}. Best is trial 8 with value: 1.9986912359266658.\n"
     ]
    },
    {
     "name": "stdout",
     "output_type": "stream",
     "text": [
      "[LibSVM]"
     ]
    },
    {
     "name": "stderr",
     "output_type": "stream",
     "text": [
      "[I 2023-12-16 17:40:48,941] Trial 12 finished with value: 1.8444410846458115 and parameters: {'C': 0.0001702099667705118, 'kernel': 'poly', 'degree': 3, 'gamma': 0.02409044768858266, 'shrinking': True, 'tol': 3.3727012415113985e-05, 'decision_function_shape': 'ovr'}. Best is trial 8 with value: 1.9986912359266658.\n"
     ]
    },
    {
     "name": "stdout",
     "output_type": "stream",
     "text": [
      "[LibSVM]"
     ]
    },
    {
     "name": "stderr",
     "output_type": "stream",
     "text": [
      "[I 2023-12-16 17:40:55,571] Trial 18 finished with value: 1.8650081209095362 and parameters: {'C': 0.0010980230071100828, 'kernel': 'poly', 'degree': 5, 'gamma': 1091.5948185417583, 'shrinking': False, 'tol': 0.019402834636615875, 'decision_function_shape': 'ovo'}. Best is trial 8 with value: 1.9986912359266658.\n"
     ]
    },
    {
     "name": "stdout",
     "output_type": "stream",
     "text": [
      "[LibSVM]"
     ]
    },
    {
     "name": "stderr",
     "output_type": "stream",
     "text": [
      "[I 2023-12-16 17:40:59,402] Trial 6 finished with value: 2.0086652292353957 and parameters: {'C': 4.0893082000013004e-05, 'kernel': 'linear', 'degree': 3, 'gamma': 35314.99483729088, 'shrinking': True, 'tol': 0.011283182079344714, 'decision_function_shape': 'ovo'}. Best is trial 6 with value: 2.0086652292353957.\n"
     ]
    },
    {
     "name": "stdout",
     "output_type": "stream",
     "text": [
      "[LibSVM]"
     ]
    },
    {
     "name": "stderr",
     "output_type": "stream",
     "text": [
      "[I 2023-12-16 17:41:15,008] Trial 17 finished with value: 1.6292026212481745 and parameters: {'C': 0.09215320084028734, 'kernel': 'linear', 'degree': 4, 'gamma': 1.1933817424056673e-05, 'shrinking': True, 'tol': 0.002438527828925079, 'decision_function_shape': 'ovr'}. Best is trial 6 with value: 2.0086652292353957.\n"
     ]
    },
    {
     "name": "stdout",
     "output_type": "stream",
     "text": [
      "[LibSVM]"
     ]
    },
    {
     "name": "stderr",
     "output_type": "stream",
     "text": [
      "[I 2023-12-16 17:42:01,181] Trial 24 finished with value: 1.7686829547043033 and parameters: {'C': 2282.9422424756012, 'kernel': 'sigmoid', 'degree': 6, 'gamma': 0.0006450585183036736, 'shrinking': True, 'tol': 0.0024581052510510024, 'decision_function_shape': 'ovr'}. Best is trial 6 with value: 2.0086652292353957.\n"
     ]
    },
    {
     "name": "stdout",
     "output_type": "stream",
     "text": [
      "[LibSVM]"
     ]
    },
    {
     "name": "stderr",
     "output_type": "stream",
     "text": [
      "[I 2023-12-16 17:42:59,821] Trial 20 finished with value: 1.5576422014103333 and parameters: {'C': 0.31111958407106144, 'kernel': 'linear', 'degree': 7, 'gamma': 12.515874541485802, 'shrinking': True, 'tol': 0.024777253812971006, 'decision_function_shape': 'ovo'}. Best is trial 6 with value: 2.0086652292353957.\n"
     ]
    },
    {
     "name": "stdout",
     "output_type": "stream",
     "text": [
      "[LibSVM]"
     ]
    },
    {
     "name": "stderr",
     "output_type": "stream",
     "text": [
      "[I 2023-12-16 17:43:27,566] Trial 14 finished with value: 1.0 and parameters: {'C': 0.04794408122355182, 'kernel': 'poly', 'degree': 7, 'gamma': 1.776671089278546e-05, 'shrinking': False, 'tol': 0.0006576298678099226, 'decision_function_shape': 'ovr'}. Best is trial 6 with value: 2.0086652292353957.\n"
     ]
    },
    {
     "name": "stdout",
     "output_type": "stream",
     "text": [
      "[LibSVM]"
     ]
    },
    {
     "name": "stderr",
     "output_type": "stream",
     "text": [
      "[I 2023-12-16 17:43:53,100] Trial 21 finished with value: 1.7004776824947965 and parameters: {'C': 0.30797254962304044, 'kernel': 'sigmoid', 'degree': 6, 'gamma': 0.9915050967938709, 'shrinking': False, 'tol': 1.672952211966192e-05, 'decision_function_shape': 'ovo'}. Best is trial 6 with value: 2.0086652292353957.\n"
     ]
    },
    {
     "name": "stdout",
     "output_type": "stream",
     "text": [
      "[LibSVM]"
     ]
    },
    {
     "name": "stderr",
     "output_type": "stream",
     "text": [
      "[I 2023-12-16 17:43:57,216] Trial 7 finished with value: 1.0 and parameters: {'C': 8.000071459628521e-05, 'kernel': 'poly', 'degree': 5, 'gamma': 0.0014601088948521708, 'shrinking': True, 'tol': 0.0004063209018398756, 'decision_function_shape': 'ovr'}. Best is trial 6 with value: 2.0086652292353957.\n"
     ]
    },
    {
     "name": "stdout",
     "output_type": "stream",
     "text": [
      "[LibSVM]"
     ]
    },
    {
     "name": "stderr",
     "output_type": "stream",
     "text": [
      "[I 2023-12-16 17:44:02,525] Trial 4 finished with value: 1.0 and parameters: {'C': 0.23010380780951697, 'kernel': 'poly', 'degree': 3, 'gamma': 8.900598234397323e-05, 'shrinking': True, 'tol': 1.320512604649326e-05, 'decision_function_shape': 'ovr'}. Best is trial 6 with value: 2.0086652292353957.\n"
     ]
    },
    {
     "name": "stdout",
     "output_type": "stream",
     "text": [
      "[LibSVM]"
     ]
    },
    {
     "name": "stderr",
     "output_type": "stream",
     "text": [
      "[I 2023-12-16 17:44:11,907] Trial 13 finished with value: 1.0 and parameters: {'C': 0.32351655527391504, 'kernel': 'rbf', 'degree': 6, 'gamma': 4163.6654153878235, 'shrinking': True, 'tol': 0.00033714145957538047, 'decision_function_shape': 'ovr'}. Best is trial 6 with value: 2.0086652292353957.\n"
     ]
    },
    {
     "name": "stdout",
     "output_type": "stream",
     "text": [
      "[LibSVM]"
     ]
    },
    {
     "name": "stderr",
     "output_type": "stream",
     "text": [
      "[I 2023-12-16 17:45:04,488] Trial 16 finished with value: 1.0 and parameters: {'C': 4.43338959186999e-05, 'kernel': 'rbf', 'degree': 4, 'gamma': 0.1180272894328142, 'shrinking': False, 'tol': 0.013684792814536518, 'decision_function_shape': 'ovo'}. Best is trial 6 with value: 2.0086652292353957.\n"
     ]
    },
    {
     "name": "stdout",
     "output_type": "stream",
     "text": [
      "[LibSVM]"
     ]
    },
    {
     "name": "stderr",
     "output_type": "stream",
     "text": [
      "[I 2023-12-16 17:48:22,441] Trial 11 finished with value: 1.513658499060841 and parameters: {'C': 1.2241455789096891, 'kernel': 'linear', 'degree': 1, 'gamma': 4.8148470655561833e-05, 'shrinking': False, 'tol': 0.01356006458343957, 'decision_function_shape': 'ovr'}. Best is trial 6 with value: 2.0086652292353957.\n"
     ]
    },
    {
     "name": "stdout",
     "output_type": "stream",
     "text": [
      "[LibSVM]"
     ]
    },
    {
     "name": "stderr",
     "output_type": "stream",
     "text": [
      "[I 2023-12-16 17:48:42,752] Trial 25 finished with value: 1.616428941518345 and parameters: {'C': 1.590551991589294e-05, 'kernel': 'sigmoid', 'degree': 1, 'gamma': 20660.050372687347, 'shrinking': True, 'tol': 0.0952005330948591, 'decision_function_shape': 'ovo'}. Best is trial 6 with value: 2.0086652292353957.\n"
     ]
    },
    {
     "name": "stdout",
     "output_type": "stream",
     "text": [
      "[LibSVM]"
     ]
    },
    {
     "name": "stderr",
     "output_type": "stream",
     "text": [
      "[I 2023-12-16 17:50:18,182] Trial 27 finished with value: 1.0 and parameters: {'C': 1.1104777189399406e-05, 'kernel': 'rbf', 'degree': 1, 'gamma': 65296.570623170315, 'shrinking': False, 'tol': 0.00018287721203989003, 'decision_function_shape': 'ovo'}. Best is trial 6 with value: 2.0086652292353957.\n"
     ]
    },
    {
     "name": "stdout",
     "output_type": "stream",
     "text": [
      "[LibSVM]"
     ]
    },
    {
     "name": "stderr",
     "output_type": "stream",
     "text": [
      "[I 2023-12-16 17:51:20,982] Trial 30 finished with value: 1.0 and parameters: {'C': 17.206831731373796, 'kernel': 'rbf', 'degree': 1, 'gamma': 40098.34530181139, 'shrinking': False, 'tol': 0.09906337446798323, 'decision_function_shape': 'ovo'}. Best is trial 6 with value: 2.0086652292353957.\n"
     ]
    },
    {
     "name": "stdout",
     "output_type": "stream",
     "text": [
      "[LibSVM]"
     ]
    },
    {
     "name": "stderr",
     "output_type": "stream",
     "text": [
      "[I 2023-12-16 17:51:38,811] Trial 32 finished with value: 1.0 and parameters: {'C': 21.344310403913152, 'kernel': 'rbf', 'degree': 1, 'gamma': 59152.75647441882, 'shrinking': False, 'tol': 0.09077824703420698, 'decision_function_shape': 'ovo'}. Best is trial 6 with value: 2.0086652292353957.\n"
     ]
    },
    {
     "name": "stdout",
     "output_type": "stream",
     "text": [
      "[LibSVM]"
     ]
    },
    {
     "name": "stderr",
     "output_type": "stream",
     "text": [
      "[I 2023-12-16 17:52:34,487] Trial 36 finished with value: 1.8679493301386545 and parameters: {'C': 0.001578236777112351, 'kernel': 'linear', 'degree': 2, 'gamma': 135.5168552763115, 'shrinking': True, 'tol': 0.08419575680381311, 'decision_function_shape': 'ovr'}. Best is trial 6 with value: 2.0086652292353957.\n"
     ]
    },
    {
     "name": "stdout",
     "output_type": "stream",
     "text": [
      "[LibSVM]"
     ]
    },
    {
     "name": "stderr",
     "output_type": "stream",
     "text": [
      "[I 2023-12-16 17:53:41,215] Trial 37 finished with value: 1.870221448803939 and parameters: {'C': 0.0012355900477536703, 'kernel': 'linear', 'degree': 2, 'gamma': 124.07766139476367, 'shrinking': True, 'tol': 0.00617414670807096, 'decision_function_shape': 'ovr'}. Best is trial 6 with value: 2.0086652292353957.\n"
     ]
    },
    {
     "name": "stdout",
     "output_type": "stream",
     "text": [
      "[LibSVM]"
     ]
    },
    {
     "name": "stderr",
     "output_type": "stream",
     "text": [
      "[I 2023-12-16 17:53:52,833] Trial 38 finished with value: 1.87128597892319 and parameters: {'C': 0.00200791633033198, 'kernel': 'linear', 'degree': 2, 'gamma': 139.29642476549694, 'shrinking': True, 'tol': 0.0048441955722120815, 'decision_function_shape': 'ovr'}. Best is trial 6 with value: 2.0086652292353957.\n"
     ]
    },
    {
     "name": "stdout",
     "output_type": "stream",
     "text": [
      "[LibSVM]"
     ]
    },
    {
     "name": "stderr",
     "output_type": "stream",
     "text": [
      "[I 2023-12-16 17:58:32,317] Trial 23 finished with value: 1.0 and parameters: {'C': 2361.0294683852453, 'kernel': 'rbf', 'degree': 3, 'gamma': 2.814551220061756, 'shrinking': True, 'tol': 0.044560463312163616, 'decision_function_shape': 'ovr'}. Best is trial 6 with value: 2.0086652292353957.\n"
     ]
    },
    {
     "name": "stdout",
     "output_type": "stream",
     "text": [
      "[LibSVM]"
     ]
    },
    {
     "name": "stderr",
     "output_type": "stream",
     "text": [
      "[I 2023-12-16 17:59:17,060] Trial 29 finished with value: 1.0 and parameters: {'C': 18.178889818178188, 'kernel': 'rbf', 'degree': 1, 'gamma': 67784.63560883202, 'shrinking': False, 'tol': 0.00029665478470922553, 'decision_function_shape': 'ovo'}. Best is trial 6 with value: 2.0086652292353957.\n"
     ]
    },
    {
     "name": "stdout",
     "output_type": "stream",
     "text": [
      "[LibSVM]"
     ]
    },
    {
     "name": "stderr",
     "output_type": "stream",
     "text": [
      "[I 2023-12-16 18:02:08,470] Trial 28 finished with value: 1.0 and parameters: {'C': 26.4988880100744, 'kernel': 'rbf', 'degree': 1, 'gamma': 18323.61595713273, 'shrinking': False, 'tol': 0.0003091569134514434, 'decision_function_shape': 'ovo'}. Best is trial 6 with value: 2.0086652292353957.\n"
     ]
    },
    {
     "name": "stdout",
     "output_type": "stream",
     "text": [
      "[LibSVM]"
     ]
    },
    {
     "name": "stderr",
     "output_type": "stream",
     "text": [
      "[I 2023-12-16 18:03:27,884] Trial 26 finished with value: 1.0 and parameters: {'C': 12.45992210592985, 'kernel': 'rbf', 'degree': 1, 'gamma': 13128.776415669312, 'shrinking': False, 'tol': 0.00026072673926272886, 'decision_function_shape': 'ovo'}. Best is trial 6 with value: 2.0086652292353957.\n"
     ]
    },
    {
     "name": "stdout",
     "output_type": "stream",
     "text": [
      "[LibSVM]"
     ]
    },
    {
     "name": "stderr",
     "output_type": "stream",
     "text": [
      "[I 2023-12-16 18:03:30,283] Trial 33 finished with value: 1.0 and parameters: {'C': 17.740429226040987, 'kernel': 'rbf', 'degree': 1, 'gamma': 96758.1899670348, 'shrinking': False, 'tol': 0.00012816957343697713, 'decision_function_shape': 'ovo'}. Best is trial 6 with value: 2.0086652292353957.\n"
     ]
    },
    {
     "name": "stdout",
     "output_type": "stream",
     "text": [
      "[LibSVM]"
     ]
    },
    {
     "name": "stderr",
     "output_type": "stream",
     "text": [
      "[I 2023-12-16 18:04:10,012] Trial 44 finished with value: 1.873543529866971 and parameters: {'C': 0.00962087474807507, 'kernel': 'linear', 'degree': 2, 'gamma': 651.5387135579014, 'shrinking': True, 'tol': 0.0012018996650179446, 'decision_function_shape': 'ovr'}. Best is trial 6 with value: 2.0086652292353957.\n"
     ]
    },
    {
     "name": "stdout",
     "output_type": "stream",
     "text": [
      "[LibSVM]"
     ]
    },
    {
     "name": "stderr",
     "output_type": "stream",
     "text": [
      "[I 2023-12-16 18:05:30,506] Trial 45 finished with value: 1.863341532411043 and parameters: {'C': 0.010175125364253522, 'kernel': 'linear', 'degree': 2, 'gamma': 568.4688678117216, 'shrinking': True, 'tol': 8.898729772172853e-05, 'decision_function_shape': 'ovr'}. Best is trial 6 with value: 2.0086652292353957.\n"
     ]
    },
    {
     "name": "stdout",
     "output_type": "stream",
     "text": [
      "[LibSVM]"
     ]
    },
    {
     "name": "stderr",
     "output_type": "stream",
     "text": [
      "[I 2023-12-16 18:06:17,840] Trial 47 finished with value: 1.853110521735744 and parameters: {'C': 0.010916672222119225, 'kernel': 'linear', 'degree': 2, 'gamma': 1443.8128439589657, 'shrinking': True, 'tol': 0.001114939797524993, 'decision_function_shape': 'ovr'}. Best is trial 6 with value: 2.0086652292353957.\n"
     ]
    },
    {
     "name": "stdout",
     "output_type": "stream",
     "text": [
      "[LibSVM]"
     ]
    },
    {
     "name": "stderr",
     "output_type": "stream",
     "text": [
      "[I 2023-12-16 18:06:43,557] Trial 46 finished with value: 1.8923226655966832 and parameters: {'C': 0.00025138574294829644, 'kernel': 'linear', 'degree': 2, 'gamma': 435.070918777511, 'shrinking': True, 'tol': 0.005791402009631594, 'decision_function_shape': 'ovr'}. Best is trial 6 with value: 2.0086652292353957.\n"
     ]
    },
    {
     "name": "stdout",
     "output_type": "stream",
     "text": [
      "[LibSVM]"
     ]
    },
    {
     "name": "stderr",
     "output_type": "stream",
     "text": [
      "[I 2023-12-16 18:07:21,516] Trial 31 finished with value: 1.0 and parameters: {'C': 29.237832720601144, 'kernel': 'rbf', 'degree': 1, 'gamma': 6062.5255233388725, 'shrinking': False, 'tol': 0.00013266001930331938, 'decision_function_shape': 'ovo'}. Best is trial 6 with value: 2.0086652292353957.\n"
     ]
    },
    {
     "name": "stdout",
     "output_type": "stream",
     "text": [
      "[LibSVM]"
     ]
    },
    {
     "name": "stderr",
     "output_type": "stream",
     "text": [
      "[I 2023-12-16 18:07:37,909] Trial 34 finished with value: 1.0 and parameters: {'C': 61.174817667076816, 'kernel': 'rbf', 'degree': 1, 'gamma': 88172.98258697771, 'shrinking': False, 'tol': 9.020264396456448e-05, 'decision_function_shape': 'ovo'}. Best is trial 6 with value: 2.0086652292353957.\n"
     ]
    },
    {
     "name": "stdout",
     "output_type": "stream",
     "text": [
      "[LibSVM]"
     ]
    },
    {
     "name": "stderr",
     "output_type": "stream",
     "text": [
      "[I 2023-12-16 18:08:58,610] Trial 48 finished with value: 1.920989892831597 and parameters: {'C': 0.00018125721557881035, 'kernel': 'linear', 'degree': 2, 'gamma': 2643.5876054593177, 'shrinking': True, 'tol': 0.0011339253132135658, 'decision_function_shape': 'ovr'}. Best is trial 6 with value: 2.0086652292353957.\n"
     ]
    },
    {
     "name": "stdout",
     "output_type": "stream",
     "text": [
      "[LibSVM]"
     ]
    },
    {
     "name": "stderr",
     "output_type": "stream",
     "text": [
      "[I 2023-12-16 18:09:27,972] Trial 49 finished with value: 1.8862109997840761 and parameters: {'C': 0.00027649824048441035, 'kernel': 'linear', 'degree': 3, 'gamma': 178.25157530775812, 'shrinking': True, 'tol': 0.006800603329175057, 'decision_function_shape': 'ovr'}. Best is trial 6 with value: 2.0086652292353957.\n"
     ]
    },
    {
     "name": "stdout",
     "output_type": "stream",
     "text": [
      "[LibSVM]"
     ]
    },
    {
     "name": "stderr",
     "output_type": "stream",
     "text": [
      "[I 2023-12-16 18:09:57,238] Trial 50 finished with value: 1.9064924066481315 and parameters: {'C': 0.00023482996295412463, 'kernel': 'linear', 'degree': 3, 'gamma': 4364.483756272603, 'shrinking': True, 'tol': 0.0012427906926920761, 'decision_function_shape': 'ovr'}. Best is trial 6 with value: 2.0086652292353957.\n"
     ]
    },
    {
     "name": "stdout",
     "output_type": "stream",
     "text": [
      "[LibSVM]"
     ]
    },
    {
     "name": "stderr",
     "output_type": "stream",
     "text": [
      "[I 2023-12-16 18:10:42,186] Trial 51 finished with value: 1.9136061478475976 and parameters: {'C': 0.0002143253050412195, 'kernel': 'linear', 'degree': 3, 'gamma': 26.461598524897628, 'shrinking': True, 'tol': 0.0011789801195288868, 'decision_function_shape': 'ovr'}. Best is trial 6 with value: 2.0086652292353957.\n"
     ]
    },
    {
     "name": "stdout",
     "output_type": "stream",
     "text": [
      "[LibSVM]"
     ]
    },
    {
     "name": "stderr",
     "output_type": "stream",
     "text": [
      "[I 2023-12-16 18:10:53,178] Trial 52 finished with value: 1.892275554884915 and parameters: {'C': 0.00026601992248208946, 'kernel': 'linear', 'degree': 3, 'gamma': 8.706903247812441, 'shrinking': True, 'tol': 0.001295231007939844, 'decision_function_shape': 'ovr'}. Best is trial 6 with value: 2.0086652292353957.\n"
     ]
    },
    {
     "name": "stdout",
     "output_type": "stream",
     "text": [
      "[LibSVM]"
     ]
    }
   ],
   "source": [
    "# Create an Optuna study and optimize the objective function\n",
    "study = optuna.create_study(direction='maximize')\n",
    "study.optimize(objective, n_trials=150, n_jobs = 16)\n",
    "\n",
    "# Get the best hyperparameters from the study\n",
    "best_params = study.best_params\n",
    "print(\"Best Hyperparameters:\", best_params)\n",
    "\n",
    "# Train the final model with the best hyperparameters\n",
    "best_model = SVC(**best_params, random_state=42)\n",
    "best_model.fit(X_train, y_train)\n",
    "\n",
    "# Evaluate the final model on the test set\n",
    "y_pred_final = best_model.predict(X_test)\n",
    "final_accuracy = accuracy_score(y_test, y_pred_final)\n",
    "print(\"Final Accuracy on Test Set:\", final_accuracy)"
   ]
  },
  {
   "cell_type": "code",
   "execution_count": 16,
   "id": "01d03f45",
   "metadata": {},
   "outputs": [
    {
     "name": "stdout",
     "output_type": "stream",
     "text": [
      "[LibSVM]"
     ]
    },
    {
     "data": {
      "text/html": [
       "<style>#sk-container-id-2 {color: black;background-color: white;}#sk-container-id-2 pre{padding: 0;}#sk-container-id-2 div.sk-toggleable {background-color: white;}#sk-container-id-2 label.sk-toggleable__label {cursor: pointer;display: block;width: 100%;margin-bottom: 0;padding: 0.3em;box-sizing: border-box;text-align: center;}#sk-container-id-2 label.sk-toggleable__label-arrow:before {content: \"▸\";float: left;margin-right: 0.25em;color: #696969;}#sk-container-id-2 label.sk-toggleable__label-arrow:hover:before {color: black;}#sk-container-id-2 div.sk-estimator:hover label.sk-toggleable__label-arrow:before {color: black;}#sk-container-id-2 div.sk-toggleable__content {max-height: 0;max-width: 0;overflow: hidden;text-align: left;background-color: #f0f8ff;}#sk-container-id-2 div.sk-toggleable__content pre {margin: 0.2em;color: black;border-radius: 0.25em;background-color: #f0f8ff;}#sk-container-id-2 input.sk-toggleable__control:checked~div.sk-toggleable__content {max-height: 200px;max-width: 100%;overflow: auto;}#sk-container-id-2 input.sk-toggleable__control:checked~label.sk-toggleable__label-arrow:before {content: \"▾\";}#sk-container-id-2 div.sk-estimator input.sk-toggleable__control:checked~label.sk-toggleable__label {background-color: #d4ebff;}#sk-container-id-2 div.sk-label input.sk-toggleable__control:checked~label.sk-toggleable__label {background-color: #d4ebff;}#sk-container-id-2 input.sk-hidden--visually {border: 0;clip: rect(1px 1px 1px 1px);clip: rect(1px, 1px, 1px, 1px);height: 1px;margin: -1px;overflow: hidden;padding: 0;position: absolute;width: 1px;}#sk-container-id-2 div.sk-estimator {font-family: monospace;background-color: #f0f8ff;border: 1px dotted black;border-radius: 0.25em;box-sizing: border-box;margin-bottom: 0.5em;}#sk-container-id-2 div.sk-estimator:hover {background-color: #d4ebff;}#sk-container-id-2 div.sk-parallel-item::after {content: \"\";width: 100%;border-bottom: 1px solid gray;flex-grow: 1;}#sk-container-id-2 div.sk-label:hover label.sk-toggleable__label {background-color: #d4ebff;}#sk-container-id-2 div.sk-serial::before {content: \"\";position: absolute;border-left: 1px solid gray;box-sizing: border-box;top: 0;bottom: 0;left: 50%;z-index: 0;}#sk-container-id-2 div.sk-serial {display: flex;flex-direction: column;align-items: center;background-color: white;padding-right: 0.2em;padding-left: 0.2em;position: relative;}#sk-container-id-2 div.sk-item {position: relative;z-index: 1;}#sk-container-id-2 div.sk-parallel {display: flex;align-items: stretch;justify-content: center;background-color: white;position: relative;}#sk-container-id-2 div.sk-item::before, #sk-container-id-2 div.sk-parallel-item::before {content: \"\";position: absolute;border-left: 1px solid gray;box-sizing: border-box;top: 0;bottom: 0;left: 50%;z-index: -1;}#sk-container-id-2 div.sk-parallel-item {display: flex;flex-direction: column;z-index: 1;position: relative;background-color: white;}#sk-container-id-2 div.sk-parallel-item:first-child::after {align-self: flex-end;width: 50%;}#sk-container-id-2 div.sk-parallel-item:last-child::after {align-self: flex-start;width: 50%;}#sk-container-id-2 div.sk-parallel-item:only-child::after {width: 0;}#sk-container-id-2 div.sk-dashed-wrapped {border: 1px dashed gray;margin: 0 0.4em 0.5em 0.4em;box-sizing: border-box;padding-bottom: 0.4em;background-color: white;}#sk-container-id-2 div.sk-label label {font-family: monospace;font-weight: bold;display: inline-block;line-height: 1.2em;}#sk-container-id-2 div.sk-label-container {text-align: center;}#sk-container-id-2 div.sk-container {/* jupyter's `normalize.less` sets `[hidden] { display: none; }` but bootstrap.min.css set `[hidden] { display: none !important; }` so we also need the `!important` here to be able to override the default hidden behavior on the sphinx rendered scikit-learn.org. See: https://github.com/scikit-learn/scikit-learn/issues/21755 */display: inline-block !important;position: relative;}#sk-container-id-2 div.sk-text-repr-fallback {display: none;}</style><div id=\"sk-container-id-2\" class=\"sk-top-container\"><div class=\"sk-text-repr-fallback\"><pre>SVC(C=44.024421858647734, degree=2, gamma=0.000205737140185106, random_state=42,\n",
       "    shrinking=False, tol=0.008294789872725751, verbose=2)</pre><b>In a Jupyter environment, please rerun this cell to show the HTML representation or trust the notebook. <br />On GitHub, the HTML representation is unable to render, please try loading this page with nbviewer.org.</b></div><div class=\"sk-container\" hidden><div class=\"sk-item\"><div class=\"sk-estimator sk-toggleable\"><input class=\"sk-toggleable__control sk-hidden--visually\" id=\"sk-estimator-id-2\" type=\"checkbox\" checked><label for=\"sk-estimator-id-2\" class=\"sk-toggleable__label sk-toggleable__label-arrow\">SVC</label><div class=\"sk-toggleable__content\"><pre>SVC(C=44.024421858647734, degree=2, gamma=0.000205737140185106, random_state=42,\n",
       "    shrinking=False, tol=0.008294789872725751, verbose=2)</pre></div></div></div></div></div>"
      ],
      "text/plain": [
       "SVC(C=44.024421858647734, degree=2, gamma=0.000205737140185106, random_state=42,\n",
       "    shrinking=False, tol=0.008294789872725751, verbose=2)"
      ]
     },
     "execution_count": 16,
     "metadata": {},
     "output_type": "execute_result"
    }
   ],
   "source": [
    "model = SVC(C=44.024421858647734, kernel='rbf', degree=2, gamma=0.000205737140185106,\n",
    "                shrinking=False, tol=0.008294789872725751, decision_function_shape='ovr', random_state=42, verbose=2)\n",
    "model.fit(X_train, y_train)"
   ]
  },
  {
   "cell_type": "code",
   "execution_count": 17,
   "id": "e87884f8",
   "metadata": {},
   "outputs": [],
   "source": [
    "y_pred = model.predict(X_test)"
   ]
  },
  {
   "cell_type": "code",
   "execution_count": 18,
   "id": "9e3fa773",
   "metadata": {},
   "outputs": [
    {
     "data": {
      "text/plain": [
       "0.7709570957095709"
      ]
     },
     "execution_count": 18,
     "metadata": {},
     "output_type": "execute_result"
    }
   ],
   "source": [
    "sensitivity = confusion_matrix(y_test,y_pred)[1][1]/(confusion_matrix(y_test,y_pred)[1][1] + confusion_matrix(y_test,y_pred)[1][0])\n",
    "sensitivity"
   ]
  },
  {
   "cell_type": "code",
   "execution_count": 19,
   "id": "3d358760",
   "metadata": {},
   "outputs": [
    {
     "data": {
      "text/plain": [
       "0.8957095709570957"
      ]
     },
     "execution_count": 19,
     "metadata": {},
     "output_type": "execute_result"
    }
   ],
   "source": [
    "specificity = confusion_matrix(y_test,y_pred)[0][0]/(confusion_matrix(y_test,y_pred)[0][0] + confusion_matrix(y_test,y_pred)[0][1])\n",
    "specificity"
   ]
  },
  {
   "cell_type": "code",
   "execution_count": 20,
   "id": "7040332e",
   "metadata": {},
   "outputs": [
    {
     "data": {
      "text/html": [
       "<div>\n",
       "<style scoped>\n",
       "    .dataframe tbody tr th:only-of-type {\n",
       "        vertical-align: middle;\n",
       "    }\n",
       "\n",
       "    .dataframe tbody tr th {\n",
       "        vertical-align: top;\n",
       "    }\n",
       "\n",
       "    .dataframe thead th {\n",
       "        text-align: right;\n",
       "    }\n",
       "</style>\n",
       "<table border=\"1\" class=\"dataframe\">\n",
       "  <thead>\n",
       "    <tr style=\"text-align: right;\">\n",
       "      <th></th>\n",
       "      <th>0</th>\n",
       "      <th>mean_A_F</th>\n",
       "      <th>max_A_F</th>\n",
       "      <th>min_A_F</th>\n",
       "      <th>var_A_F</th>\n",
       "      <th>std_A_F</th>\n",
       "      <th>rms_A_F</th>\n",
       "      <th>mav_A_F</th>\n",
       "      <th>zcr_A_F</th>\n",
       "      <th>p2p_A_F</th>\n",
       "      <th>...</th>\n",
       "      <th>spectral_kurtosis_T_F</th>\n",
       "      <th>bandpower_T_F</th>\n",
       "      <th>PSD_T_V</th>\n",
       "      <th>spectral_spread_T_V</th>\n",
       "      <th>spectral_kurtosis_T_V</th>\n",
       "      <th>bandpower_T_V</th>\n",
       "      <th>PSD_T_L</th>\n",
       "      <th>spectral_spread_T_L</th>\n",
       "      <th>spectral_kurtosis_T_L</th>\n",
       "      <th>bandpower_T_L</th>\n",
       "    </tr>\n",
       "  </thead>\n",
       "  <tbody>\n",
       "    <tr>\n",
       "      <th>1</th>\n",
       "      <td>0</td>\n",
       "      <td>-92.867188</td>\n",
       "      <td>-60</td>\n",
       "      <td>-111</td>\n",
       "      <td>138.787048</td>\n",
       "      <td>11.780791</td>\n",
       "      <td>93.611439</td>\n",
       "      <td>92.867188</td>\n",
       "      <td>0.0</td>\n",
       "      <td>51</td>\n",
       "      <td>...</td>\n",
       "      <td>-1.171239</td>\n",
       "      <td>58.864645</td>\n",
       "      <td>284.797495</td>\n",
       "      <td>8.586193</td>\n",
       "      <td>-0.250066</td>\n",
       "      <td>146.706231</td>\n",
       "      <td>225.303385</td>\n",
       "      <td>9.239492</td>\n",
       "      <td>-1.295030</td>\n",
       "      <td>113.960339</td>\n",
       "    </tr>\n",
       "    <tr>\n",
       "      <th>2</th>\n",
       "      <td>0</td>\n",
       "      <td>-98.382812</td>\n",
       "      <td>-60</td>\n",
       "      <td>-131</td>\n",
       "      <td>158.267517</td>\n",
       "      <td>12.580442</td>\n",
       "      <td>99.183896</td>\n",
       "      <td>98.382812</td>\n",
       "      <td>0.0</td>\n",
       "      <td>71</td>\n",
       "      <td>...</td>\n",
       "      <td>0.797436</td>\n",
       "      <td>289.747380</td>\n",
       "      <td>517.741618</td>\n",
       "      <td>8.545044</td>\n",
       "      <td>0.104245</td>\n",
       "      <td>261.698629</td>\n",
       "      <td>612.461094</td>\n",
       "      <td>9.806169</td>\n",
       "      <td>-1.044157</td>\n",
       "      <td>310.022144</td>\n",
       "    </tr>\n",
       "    <tr>\n",
       "      <th>3</th>\n",
       "      <td>0</td>\n",
       "      <td>-93.046875</td>\n",
       "      <td>-70</td>\n",
       "      <td>-131</td>\n",
       "      <td>139.935303</td>\n",
       "      <td>11.829425</td>\n",
       "      <td>93.795822</td>\n",
       "      <td>93.046875</td>\n",
       "      <td>0.0</td>\n",
       "      <td>61</td>\n",
       "      <td>...</td>\n",
       "      <td>-0.286805</td>\n",
       "      <td>104.606979</td>\n",
       "      <td>366.039197</td>\n",
       "      <td>7.879712</td>\n",
       "      <td>-0.298174</td>\n",
       "      <td>183.942145</td>\n",
       "      <td>503.652044</td>\n",
       "      <td>10.255825</td>\n",
       "      <td>-1.050005</td>\n",
       "      <td>273.178697</td>\n",
       "    </tr>\n",
       "    <tr>\n",
       "      <th>4</th>\n",
       "      <td>0</td>\n",
       "      <td>-86.226562</td>\n",
       "      <td>-60</td>\n",
       "      <td>-111</td>\n",
       "      <td>138.784607</td>\n",
       "      <td>11.780688</td>\n",
       "      <td>87.027609</td>\n",
       "      <td>86.226562</td>\n",
       "      <td>0.0</td>\n",
       "      <td>51</td>\n",
       "      <td>...</td>\n",
       "      <td>6.204703</td>\n",
       "      <td>335.111932</td>\n",
       "      <td>389.883408</td>\n",
       "      <td>8.697141</td>\n",
       "      <td>-0.961163</td>\n",
       "      <td>193.859577</td>\n",
       "      <td>532.655947</td>\n",
       "      <td>10.082875</td>\n",
       "      <td>-1.365646</td>\n",
       "      <td>263.070097</td>\n",
       "    </tr>\n",
       "    <tr>\n",
       "      <th>5</th>\n",
       "      <td>0</td>\n",
       "      <td>-79.859375</td>\n",
       "      <td>-50</td>\n",
       "      <td>-101</td>\n",
       "      <td>138.980225</td>\n",
       "      <td>11.788987</td>\n",
       "      <td>80.724841</td>\n",
       "      <td>79.859375</td>\n",
       "      <td>0.0</td>\n",
       "      <td>51</td>\n",
       "      <td>...</td>\n",
       "      <td>0.459116</td>\n",
       "      <td>543.999777</td>\n",
       "      <td>709.198059</td>\n",
       "      <td>7.834601</td>\n",
       "      <td>-0.411277</td>\n",
       "      <td>354.465320</td>\n",
       "      <td>755.266932</td>\n",
       "      <td>8.788601</td>\n",
       "      <td>-1.052153</td>\n",
       "      <td>377.287469</td>\n",
       "    </tr>\n",
       "    <tr>\n",
       "      <th>...</th>\n",
       "      <td>...</td>\n",
       "      <td>...</td>\n",
       "      <td>...</td>\n",
       "      <td>...</td>\n",
       "      <td>...</td>\n",
       "      <td>...</td>\n",
       "      <td>...</td>\n",
       "      <td>...</td>\n",
       "      <td>...</td>\n",
       "      <td>...</td>\n",
       "      <td>...</td>\n",
       "      <td>...</td>\n",
       "      <td>...</td>\n",
       "      <td>...</td>\n",
       "      <td>...</td>\n",
       "      <td>...</td>\n",
       "      <td>...</td>\n",
       "      <td>...</td>\n",
       "      <td>...</td>\n",
       "      <td>...</td>\n",
       "      <td>...</td>\n",
       "    </tr>\n",
       "    <tr>\n",
       "      <th>1920</th>\n",
       "      <td>1</td>\n",
       "      <td>-212.781250</td>\n",
       "      <td>-121</td>\n",
       "      <td>-555</td>\n",
       "      <td>3342.139648</td>\n",
       "      <td>57.811242</td>\n",
       "      <td>220.494898</td>\n",
       "      <td>212.781250</td>\n",
       "      <td>0.0</td>\n",
       "      <td>434</td>\n",
       "      <td>...</td>\n",
       "      <td>7.976103</td>\n",
       "      <td>3109.758017</td>\n",
       "      <td>11875.692583</td>\n",
       "      <td>5.324020</td>\n",
       "      <td>4.481550</td>\n",
       "      <td>5865.946519</td>\n",
       "      <td>6786.460318</td>\n",
       "      <td>9.701656</td>\n",
       "      <td>-1.397758</td>\n",
       "      <td>3422.585931</td>\n",
       "    </tr>\n",
       "    <tr>\n",
       "      <th>1921</th>\n",
       "      <td>1</td>\n",
       "      <td>-138.929688</td>\n",
       "      <td>1070</td>\n",
       "      <td>-616</td>\n",
       "      <td>34618.190369</td>\n",
       "      <td>186.059642</td>\n",
       "      <td>232.206047</td>\n",
       "      <td>181.726562</td>\n",
       "      <td>5.0</td>\n",
       "      <td>1686</td>\n",
       "      <td>...</td>\n",
       "      <td>5.840698</td>\n",
       "      <td>11938.751674</td>\n",
       "      <td>6413.508693</td>\n",
       "      <td>5.082923</td>\n",
       "      <td>3.122238</td>\n",
       "      <td>3134.650710</td>\n",
       "      <td>11657.534048</td>\n",
       "      <td>6.331695</td>\n",
       "      <td>2.264241</td>\n",
       "      <td>6002.581780</td>\n",
       "    </tr>\n",
       "    <tr>\n",
       "      <th>1922</th>\n",
       "      <td>1</td>\n",
       "      <td>-169.867188</td>\n",
       "      <td>2707</td>\n",
       "      <td>-4000</td>\n",
       "      <td>369040.318298</td>\n",
       "      <td>607.486887</td>\n",
       "      <td>630.789331</td>\n",
       "      <td>320.570312</td>\n",
       "      <td>8.0</td>\n",
       "      <td>6707</td>\n",
       "      <td>...</td>\n",
       "      <td>5.044006</td>\n",
       "      <td>8854.098434</td>\n",
       "      <td>22903.576170</td>\n",
       "      <td>5.561472</td>\n",
       "      <td>2.842575</td>\n",
       "      <td>11169.002538</td>\n",
       "      <td>20033.252278</td>\n",
       "      <td>10.429474</td>\n",
       "      <td>-1.405811</td>\n",
       "      <td>10198.144470</td>\n",
       "    </tr>\n",
       "    <tr>\n",
       "      <th>1923</th>\n",
       "      <td>1</td>\n",
       "      <td>-158.070312</td>\n",
       "      <td>1424</td>\n",
       "      <td>-1282</td>\n",
       "      <td>92965.143494</td>\n",
       "      <td>304.901859</td>\n",
       "      <td>343.440486</td>\n",
       "      <td>223.945312</td>\n",
       "      <td>6.0</td>\n",
       "      <td>2706</td>\n",
       "      <td>...</td>\n",
       "      <td>5.290342</td>\n",
       "      <td>13323.300193</td>\n",
       "      <td>15839.203213</td>\n",
       "      <td>6.362756</td>\n",
       "      <td>0.739057</td>\n",
       "      <td>7857.497693</td>\n",
       "      <td>20636.575331</td>\n",
       "      <td>8.890450</td>\n",
       "      <td>-0.118322</td>\n",
       "      <td>10460.701578</td>\n",
       "    </tr>\n",
       "    <tr>\n",
       "      <th>1924</th>\n",
       "      <td>1</td>\n",
       "      <td>-179.210938</td>\n",
       "      <td>2535</td>\n",
       "      <td>-4767</td>\n",
       "      <td>486315.416443</td>\n",
       "      <td>697.363188</td>\n",
       "      <td>720.022206</td>\n",
       "      <td>387.273438</td>\n",
       "      <td>7.5</td>\n",
       "      <td>7302</td>\n",
       "      <td>...</td>\n",
       "      <td>4.947080</td>\n",
       "      <td>21445.007422</td>\n",
       "      <td>54620.025837</td>\n",
       "      <td>5.200631</td>\n",
       "      <td>2.153806</td>\n",
       "      <td>26317.709069</td>\n",
       "      <td>19731.046438</td>\n",
       "      <td>6.788914</td>\n",
       "      <td>2.117699</td>\n",
       "      <td>9672.667022</td>\n",
       "    </tr>\n",
       "  </tbody>\n",
       "</table>\n",
       "<p>1924 rows × 424 columns</p>\n",
       "</div>"
      ],
      "text/plain": [
       "      0    mean_A_F  max_A_F  min_A_F        var_A_F     std_A_F     rms_A_F  \\\n",
       "1     0  -92.867188      -60     -111     138.787048   11.780791   93.611439   \n",
       "2     0  -98.382812      -60     -131     158.267517   12.580442   99.183896   \n",
       "3     0  -93.046875      -70     -131     139.935303   11.829425   93.795822   \n",
       "4     0  -86.226562      -60     -111     138.784607   11.780688   87.027609   \n",
       "5     0  -79.859375      -50     -101     138.980225   11.788987   80.724841   \n",
       "...  ..         ...      ...      ...            ...         ...         ...   \n",
       "1920  1 -212.781250     -121     -555    3342.139648   57.811242  220.494898   \n",
       "1921  1 -138.929688     1070     -616   34618.190369  186.059642  232.206047   \n",
       "1922  1 -169.867188     2707    -4000  369040.318298  607.486887  630.789331   \n",
       "1923  1 -158.070312     1424    -1282   92965.143494  304.901859  343.440486   \n",
       "1924  1 -179.210938     2535    -4767  486315.416443  697.363188  720.022206   \n",
       "\n",
       "         mav_A_F  zcr_A_F  p2p_A_F  ...  spectral_kurtosis_T_F  bandpower_T_F  \\\n",
       "1      92.867188      0.0       51  ...              -1.171239      58.864645   \n",
       "2      98.382812      0.0       71  ...               0.797436     289.747380   \n",
       "3      93.046875      0.0       61  ...              -0.286805     104.606979   \n",
       "4      86.226562      0.0       51  ...               6.204703     335.111932   \n",
       "5      79.859375      0.0       51  ...               0.459116     543.999777   \n",
       "...          ...      ...      ...  ...                    ...            ...   \n",
       "1920  212.781250      0.0      434  ...               7.976103    3109.758017   \n",
       "1921  181.726562      5.0     1686  ...               5.840698   11938.751674   \n",
       "1922  320.570312      8.0     6707  ...               5.044006    8854.098434   \n",
       "1923  223.945312      6.0     2706  ...               5.290342   13323.300193   \n",
       "1924  387.273438      7.5     7302  ...               4.947080   21445.007422   \n",
       "\n",
       "           PSD_T_V  spectral_spread_T_V  spectral_kurtosis_T_V  bandpower_T_V  \\\n",
       "1       284.797495             8.586193              -0.250066     146.706231   \n",
       "2       517.741618             8.545044               0.104245     261.698629   \n",
       "3       366.039197             7.879712              -0.298174     183.942145   \n",
       "4       389.883408             8.697141              -0.961163     193.859577   \n",
       "5       709.198059             7.834601              -0.411277     354.465320   \n",
       "...            ...                  ...                    ...            ...   \n",
       "1920  11875.692583             5.324020               4.481550    5865.946519   \n",
       "1921   6413.508693             5.082923               3.122238    3134.650710   \n",
       "1922  22903.576170             5.561472               2.842575   11169.002538   \n",
       "1923  15839.203213             6.362756               0.739057    7857.497693   \n",
       "1924  54620.025837             5.200631               2.153806   26317.709069   \n",
       "\n",
       "           PSD_T_L  spectral_spread_T_L  spectral_kurtosis_T_L  bandpower_T_L  \n",
       "1       225.303385             9.239492              -1.295030     113.960339  \n",
       "2       612.461094             9.806169              -1.044157     310.022144  \n",
       "3       503.652044            10.255825              -1.050005     273.178697  \n",
       "4       532.655947            10.082875              -1.365646     263.070097  \n",
       "5       755.266932             8.788601              -1.052153     377.287469  \n",
       "...            ...                  ...                    ...            ...  \n",
       "1920   6786.460318             9.701656              -1.397758    3422.585931  \n",
       "1921  11657.534048             6.331695               2.264241    6002.581780  \n",
       "1922  20033.252278            10.429474              -1.405811   10198.144470  \n",
       "1923  20636.575331             8.890450              -0.118322   10460.701578  \n",
       "1924  19731.046438             6.788914               2.117699    9672.667022  \n",
       "\n",
       "[1924 rows x 424 columns]"
      ]
     },
     "execution_count": 20,
     "metadata": {},
     "output_type": "execute_result"
    }
   ],
   "source": [
    "time_2=pd.read_csv(r\"C:\\Users\\Admin\\Desktop\\Labelled_Files_1\\features\\time_2.csv\")\n",
    "freq_2=pd.read_csv(r\"C:\\Users\\Admin\\Desktop\\Labelled_Files_1\\features\\freq_2.csv\")\n",
    "\n",
    "combined_2 = pd.concat([time_2, freq_2], axis=1)\n",
    "combined_2=combined_2[combined_2['0']!=2]\n",
    "combined_2.dropna(inplace=True)\n",
    "combined_2"
   ]
  },
  {
   "cell_type": "code",
   "execution_count": 21,
   "id": "f3491ab7",
   "metadata": {},
   "outputs": [
    {
     "data": {
      "image/png": "[encoded data removed]",
      "text/plain": [
       "<Figure size 640x480 with 1 Axes>"
      ]
     },
     "metadata": {},
     "output_type": "display_data"
    }
   ],
   "source": [
    "X_test = combined_2.drop('0', axis=1)\n",
    "y_test = combined_2['0']\n",
    "\n",
    "sb.countplot(data=pd.DataFrame(y_test), x='0')\n",
    "plt.show()"
   ]
  },
  {
   "cell_type": "code",
   "execution_count": 22,
   "id": "694f3a2d",
   "metadata": {},
   "outputs": [],
   "source": [
    "smote = SMOTE(random_state=42)\n",
    "X_test, y_test = smote.fit_resample(X_test, y_test)"
   ]
  },
  {
   "cell_type": "code",
   "execution_count": 23,
   "id": "cd1fd933",
   "metadata": {},
   "outputs": [
    {
     "data": {
      "image/png": "[encoded data removed]",
      "text/plain": [
       "<Figure size 640x480 with 1 Axes>"
      ]
     },
     "metadata": {},
     "output_type": "display_data"
    }
   ],
   "source": [
    "sb.countplot(data=pd.DataFrame(y_test), x='0')\n",
    "plt.show()"
   ]
  },
  {
   "cell_type": "code",
   "execution_count": 24,
   "id": "497a8239",
   "metadata": {},
   "outputs": [],
   "source": [
    "scaler = StandardScaler()\n",
    "\n",
    "X_test = scaler.fit_transform(X_test)"
   ]
  },
  {
   "cell_type": "code",
   "execution_count": 25,
   "id": "8e1a5686",
   "metadata": {},
   "outputs": [],
   "source": [
    "y_pred = model.predict(X_test)"
   ]
  },
  {
   "cell_type": "code",
   "execution_count": 26,
   "id": "251a39f8",
   "metadata": {},
   "outputs": [
    {
     "data": {
      "text/plain": [
       "0.8498316498316498"
      ]
     },
     "execution_count": 26,
     "metadata": {},
     "output_type": "execute_result"
    }
   ],
   "source": [
    "sensitivity = confusion_matrix(y_test,y_pred)[1][1]/(confusion_matrix(y_test,y_pred)[1][1] + confusion_matrix(y_test,y_pred)[1][0])\n",
    "sensitivity"
   ]
  },
  {
   "cell_type": "code",
   "execution_count": 27,
   "id": "ef7282df",
   "metadata": {},
   "outputs": [
    {
     "data": {
      "text/plain": [
       "0.9057239057239057"
      ]
     },
     "execution_count": 27,
     "metadata": {},
     "output_type": "execute_result"
    }
   ],
   "source": [
    "specificity = confusion_matrix(y_test,y_pred)[0][0]/(confusion_matrix(y_test,y_pred)[0][0] + confusion_matrix(y_test,y_pred)[0][1])\n",
    "specificity"
   ]
  },
  {
   "cell_type": "code",
   "execution_count": 28,
   "id": "8418f02e",
   "metadata": {},
   "outputs": [
    {
     "data": {
      "text/html": [
       "<div>\n",
       "<style scoped>\n",
       "    .dataframe tbody tr th:only-of-type {\n",
       "        vertical-align: middle;\n",
       "    }\n",
       "\n",
       "    .dataframe tbody tr th {\n",
       "        vertical-align: top;\n",
       "    }\n",
       "\n",
       "    .dataframe thead th {\n",
       "        text-align: right;\n",
       "    }\n",
       "</style>\n",
       "<table border=\"1\" class=\"dataframe\">\n",
       "  <thead>\n",
       "    <tr style=\"text-align: right;\">\n",
       "      <th></th>\n",
       "      <th>0</th>\n",
       "      <th>mean_A_F</th>\n",
       "      <th>max_A_F</th>\n",
       "      <th>min_A_F</th>\n",
       "      <th>var_A_F</th>\n",
       "      <th>std_A_F</th>\n",
       "      <th>rms_A_F</th>\n",
       "      <th>mav_A_F</th>\n",
       "      <th>zcr_A_F</th>\n",
       "      <th>p2p_A_F</th>\n",
       "      <th>...</th>\n",
       "      <th>spectral_kurtosis_T_F</th>\n",
       "      <th>bandpower_T_F</th>\n",
       "      <th>PSD_T_V</th>\n",
       "      <th>spectral_spread_T_V</th>\n",
       "      <th>spectral_kurtosis_T_V</th>\n",
       "      <th>bandpower_T_V</th>\n",
       "      <th>PSD_T_L</th>\n",
       "      <th>spectral_spread_T_L</th>\n",
       "      <th>spectral_kurtosis_T_L</th>\n",
       "      <th>bandpower_T_L</th>\n",
       "    </tr>\n",
       "  </thead>\n",
       "  <tbody>\n",
       "    <tr>\n",
       "      <th>1</th>\n",
       "      <td>0</td>\n",
       "      <td>-95.328125</td>\n",
       "      <td>-60</td>\n",
       "      <td>-131</td>\n",
       "      <td>166.470459</td>\n",
       "      <td>12.902343</td>\n",
       "      <td>96.197307</td>\n",
       "      <td>95.328125</td>\n",
       "      <td>0.0</td>\n",
       "      <td>71</td>\n",
       "      <td>...</td>\n",
       "      <td>2.419555</td>\n",
       "      <td>281.810939</td>\n",
       "      <td>570.555777</td>\n",
       "      <td>8.335929</td>\n",
       "      <td>0.030989</td>\n",
       "      <td>192.035148</td>\n",
       "      <td>834.622144</td>\n",
       "      <td>9.659878</td>\n",
       "      <td>-0.691702</td>\n",
       "      <td>294.407003</td>\n",
       "    </tr>\n",
       "    <tr>\n",
       "      <th>2</th>\n",
       "      <td>0</td>\n",
       "      <td>-90.416667</td>\n",
       "      <td>-60</td>\n",
       "      <td>-131</td>\n",
       "      <td>148.628472</td>\n",
       "      <td>12.191328</td>\n",
       "      <td>91.234873</td>\n",
       "      <td>90.416667</td>\n",
       "      <td>0.0</td>\n",
       "      <td>71</td>\n",
       "      <td>...</td>\n",
       "      <td>-0.552668</td>\n",
       "      <td>105.537297</td>\n",
       "      <td>498.746029</td>\n",
       "      <td>7.552030</td>\n",
       "      <td>0.301747</td>\n",
       "      <td>165.676363</td>\n",
       "      <td>875.231678</td>\n",
       "      <td>9.862516</td>\n",
       "      <td>-0.740333</td>\n",
       "      <td>302.742313</td>\n",
       "    </tr>\n",
       "    <tr>\n",
       "      <th>3</th>\n",
       "      <td>0</td>\n",
       "      <td>-82.338542</td>\n",
       "      <td>-50</td>\n",
       "      <td>-111</td>\n",
       "      <td>155.203098</td>\n",
       "      <td>12.458054</td>\n",
       "      <td>83.275678</td>\n",
       "      <td>82.338542</td>\n",
       "      <td>0.0</td>\n",
       "      <td>61</td>\n",
       "      <td>...</td>\n",
       "      <td>0.365207</td>\n",
       "      <td>931.691162</td>\n",
       "      <td>1633.539989</td>\n",
       "      <td>8.065891</td>\n",
       "      <td>-0.655994</td>\n",
       "      <td>546.100665</td>\n",
       "      <td>1589.285590</td>\n",
       "      <td>8.544789</td>\n",
       "      <td>-0.950985</td>\n",
       "      <td>531.048456</td>\n",
       "    </tr>\n",
       "    <tr>\n",
       "      <th>4</th>\n",
       "      <td>0</td>\n",
       "      <td>-86.156250</td>\n",
       "      <td>-50</td>\n",
       "      <td>-121</td>\n",
       "      <td>213.413086</td>\n",
       "      <td>14.608665</td>\n",
       "      <td>87.385997</td>\n",
       "      <td>86.156250</td>\n",
       "      <td>0.0</td>\n",
       "      <td>71</td>\n",
       "      <td>...</td>\n",
       "      <td>3.455373</td>\n",
       "      <td>441.578584</td>\n",
       "      <td>995.234107</td>\n",
       "      <td>7.266270</td>\n",
       "      <td>1.042605</td>\n",
       "      <td>338.883284</td>\n",
       "      <td>1183.022238</td>\n",
       "      <td>9.595447</td>\n",
       "      <td>-0.338545</td>\n",
       "      <td>409.747421</td>\n",
       "    </tr>\n",
       "    <tr>\n",
       "      <th>5</th>\n",
       "      <td>0</td>\n",
       "      <td>-64.385417</td>\n",
       "      <td>-40</td>\n",
       "      <td>-101</td>\n",
       "      <td>135.778537</td>\n",
       "      <td>11.652405</td>\n",
       "      <td>65.431341</td>\n",
       "      <td>64.385417</td>\n",
       "      <td>0.0</td>\n",
       "      <td>61</td>\n",
       "      <td>...</td>\n",
       "      <td>-1.142516</td>\n",
       "      <td>104.661984</td>\n",
       "      <td>232.726992</td>\n",
       "      <td>8.248366</td>\n",
       "      <td>-1.009213</td>\n",
       "      <td>76.738626</td>\n",
       "      <td>502.970733</td>\n",
       "      <td>8.891524</td>\n",
       "      <td>-1.009908</td>\n",
       "      <td>173.889898</td>\n",
       "    </tr>\n",
       "    <tr>\n",
       "      <th>...</th>\n",
       "      <td>...</td>\n",
       "      <td>...</td>\n",
       "      <td>...</td>\n",
       "      <td>...</td>\n",
       "      <td>...</td>\n",
       "      <td>...</td>\n",
       "      <td>...</td>\n",
       "      <td>...</td>\n",
       "      <td>...</td>\n",
       "      <td>...</td>\n",
       "      <td>...</td>\n",
       "      <td>...</td>\n",
       "      <td>...</td>\n",
       "      <td>...</td>\n",
       "      <td>...</td>\n",
       "      <td>...</td>\n",
       "      <td>...</td>\n",
       "      <td>...</td>\n",
       "      <td>...</td>\n",
       "      <td>...</td>\n",
       "      <td>...</td>\n",
       "    </tr>\n",
       "    <tr>\n",
       "      <th>1890</th>\n",
       "      <td>1</td>\n",
       "      <td>-221.395833</td>\n",
       "      <td>1303</td>\n",
       "      <td>-1666</td>\n",
       "      <td>130474.384983</td>\n",
       "      <td>361.212382</td>\n",
       "      <td>423.663192</td>\n",
       "      <td>318.406250</td>\n",
       "      <td>6.5</td>\n",
       "      <td>2969</td>\n",
       "      <td>...</td>\n",
       "      <td>5.300557</td>\n",
       "      <td>17238.091178</td>\n",
       "      <td>35548.576009</td>\n",
       "      <td>4.965161</td>\n",
       "      <td>3.349228</td>\n",
       "      <td>12217.810851</td>\n",
       "      <td>35523.803153</td>\n",
       "      <td>6.099677</td>\n",
       "      <td>1.129934</td>\n",
       "      <td>12251.271178</td>\n",
       "    </tr>\n",
       "    <tr>\n",
       "      <th>1891</th>\n",
       "      <td>1</td>\n",
       "      <td>-202.005208</td>\n",
       "      <td>-10</td>\n",
       "      <td>-555</td>\n",
       "      <td>5147.557265</td>\n",
       "      <td>71.746479</td>\n",
       "      <td>214.368051</td>\n",
       "      <td>202.005208</td>\n",
       "      <td>0.0</td>\n",
       "      <td>545</td>\n",
       "      <td>...</td>\n",
       "      <td>10.107919</td>\n",
       "      <td>2745.142737</td>\n",
       "      <td>11382.092792</td>\n",
       "      <td>5.046247</td>\n",
       "      <td>5.837321</td>\n",
       "      <td>3711.254359</td>\n",
       "      <td>8915.271634</td>\n",
       "      <td>9.345960</td>\n",
       "      <td>-0.953310</td>\n",
       "      <td>3051.219872</td>\n",
       "    </tr>\n",
       "    <tr>\n",
       "      <th>1892</th>\n",
       "      <td>1</td>\n",
       "      <td>-145.713542</td>\n",
       "      <td>2707</td>\n",
       "      <td>-4000</td>\n",
       "      <td>266435.787733</td>\n",
       "      <td>516.174184</td>\n",
       "      <td>536.347111</td>\n",
       "      <td>274.713542</td>\n",
       "      <td>13.0</td>\n",
       "      <td>6707</td>\n",
       "      <td>...</td>\n",
       "      <td>4.293087</td>\n",
       "      <td>7633.285386</td>\n",
       "      <td>27350.079608</td>\n",
       "      <td>5.628157</td>\n",
       "      <td>3.126733</td>\n",
       "      <td>9076.919318</td>\n",
       "      <td>32420.597212</td>\n",
       "      <td>10.279633</td>\n",
       "      <td>-1.309036</td>\n",
       "      <td>10764.543226</td>\n",
       "    </tr>\n",
       "    <tr>\n",
       "      <th>1893</th>\n",
       "      <td>1</td>\n",
       "      <td>-170.859375</td>\n",
       "      <td>1868</td>\n",
       "      <td>-4767</td>\n",
       "      <td>256155.829183</td>\n",
       "      <td>506.118394</td>\n",
       "      <td>534.180452</td>\n",
       "      <td>283.390625</td>\n",
       "      <td>10.0</td>\n",
       "      <td>6635</td>\n",
       "      <td>...</td>\n",
       "      <td>5.374599</td>\n",
       "      <td>12199.190280</td>\n",
       "      <td>30439.194923</td>\n",
       "      <td>5.927679</td>\n",
       "      <td>1.497921</td>\n",
       "      <td>10201.338210</td>\n",
       "      <td>33216.569911</td>\n",
       "      <td>9.529312</td>\n",
       "      <td>-0.728003</td>\n",
       "      <td>11317.183109</td>\n",
       "    </tr>\n",
       "    <tr>\n",
       "      <th>1894</th>\n",
       "      <td>1</td>\n",
       "      <td>-95.338542</td>\n",
       "      <td>2535</td>\n",
       "      <td>-3141</td>\n",
       "      <td>323854.713515</td>\n",
       "      <td>569.082343</td>\n",
       "      <td>577.013129</td>\n",
       "      <td>292.130208</td>\n",
       "      <td>21.5</td>\n",
       "      <td>5676</td>\n",
       "      <td>...</td>\n",
       "      <td>8.327285</td>\n",
       "      <td>26884.063872</td>\n",
       "      <td>83435.971497</td>\n",
       "      <td>5.297345</td>\n",
       "      <td>0.965544</td>\n",
       "      <td>27737.591025</td>\n",
       "      <td>26836.895927</td>\n",
       "      <td>7.682933</td>\n",
       "      <td>0.529976</td>\n",
       "      <td>8821.054879</td>\n",
       "    </tr>\n",
       "  </tbody>\n",
       "</table>\n",
       "<p>1894 rows × 424 columns</p>\n",
       "</div>"
      ],
      "text/plain": [
       "      0    mean_A_F  max_A_F  min_A_F        var_A_F     std_A_F     rms_A_F  \\\n",
       "1     0  -95.328125      -60     -131     166.470459   12.902343   96.197307   \n",
       "2     0  -90.416667      -60     -131     148.628472   12.191328   91.234873   \n",
       "3     0  -82.338542      -50     -111     155.203098   12.458054   83.275678   \n",
       "4     0  -86.156250      -50     -121     213.413086   14.608665   87.385997   \n",
       "5     0  -64.385417      -40     -101     135.778537   11.652405   65.431341   \n",
       "...  ..         ...      ...      ...            ...         ...         ...   \n",
       "1890  1 -221.395833     1303    -1666  130474.384983  361.212382  423.663192   \n",
       "1891  1 -202.005208      -10     -555    5147.557265   71.746479  214.368051   \n",
       "1892  1 -145.713542     2707    -4000  266435.787733  516.174184  536.347111   \n",
       "1893  1 -170.859375     1868    -4767  256155.829183  506.118394  534.180452   \n",
       "1894  1  -95.338542     2535    -3141  323854.713515  569.082343  577.013129   \n",
       "\n",
       "         mav_A_F  zcr_A_F  p2p_A_F  ...  spectral_kurtosis_T_F  bandpower_T_F  \\\n",
       "1      95.328125      0.0       71  ...               2.419555     281.810939   \n",
       "2      90.416667      0.0       71  ...              -0.552668     105.537297   \n",
       "3      82.338542      0.0       61  ...               0.365207     931.691162   \n",
       "4      86.156250      0.0       71  ...               3.455373     441.578584   \n",
       "5      64.385417      0.0       61  ...              -1.142516     104.661984   \n",
       "...          ...      ...      ...  ...                    ...            ...   \n",
       "1890  318.406250      6.5     2969  ...               5.300557   17238.091178   \n",
       "1891  202.005208      0.0      545  ...              10.107919    2745.142737   \n",
       "1892  274.713542     13.0     6707  ...               4.293087    7633.285386   \n",
       "1893  283.390625     10.0     6635  ...               5.374599   12199.190280   \n",
       "1894  292.130208     21.5     5676  ...               8.327285   26884.063872   \n",
       "\n",
       "           PSD_T_V  spectral_spread_T_V  spectral_kurtosis_T_V  bandpower_T_V  \\\n",
       "1       570.555777             8.335929               0.030989     192.035148   \n",
       "2       498.746029             7.552030               0.301747     165.676363   \n",
       "3      1633.539989             8.065891              -0.655994     546.100665   \n",
       "4       995.234107             7.266270               1.042605     338.883284   \n",
       "5       232.726992             8.248366              -1.009213      76.738626   \n",
       "...            ...                  ...                    ...            ...   \n",
       "1890  35548.576009             4.965161               3.349228   12217.810851   \n",
       "1891  11382.092792             5.046247               5.837321    3711.254359   \n",
       "1892  27350.079608             5.628157               3.126733    9076.919318   \n",
       "1893  30439.194923             5.927679               1.497921   10201.338210   \n",
       "1894  83435.971497             5.297345               0.965544   27737.591025   \n",
       "\n",
       "           PSD_T_L  spectral_spread_T_L  spectral_kurtosis_T_L  bandpower_T_L  \n",
       "1       834.622144             9.659878              -0.691702     294.407003  \n",
       "2       875.231678             9.862516              -0.740333     302.742313  \n",
       "3      1589.285590             8.544789              -0.950985     531.048456  \n",
       "4      1183.022238             9.595447              -0.338545     409.747421  \n",
       "5       502.970733             8.891524              -1.009908     173.889898  \n",
       "...            ...                  ...                    ...            ...  \n",
       "1890  35523.803153             6.099677               1.129934   12251.271178  \n",
       "1891   8915.271634             9.345960              -0.953310    3051.219872  \n",
       "1892  32420.597212            10.279633              -1.309036   10764.543226  \n",
       "1893  33216.569911             9.529312              -0.728003   11317.183109  \n",
       "1894  26836.895927             7.682933               0.529976    8821.054879  \n",
       "\n",
       "[1894 rows x 424 columns]"
      ]
     },
     "execution_count": 28,
     "metadata": {},
     "output_type": "execute_result"
    }
   ],
   "source": [
    "time_3=pd.read_csv(r\"C:\\Users\\Admin\\Desktop\\Labelled_Files_1\\features\\time_3.csv\")\n",
    "freq_3=pd.read_csv(r\"C:\\Users\\Admin\\Desktop\\Labelled_Files_1\\features\\freq_3.csv\")\n",
    "\n",
    "combined_3 = pd.concat([time_3, freq_3], axis=1)\n",
    "combined_3=combined_3[combined_3['0']!=2]\n",
    "combined_3.dropna(inplace=True)\n",
    "combined_3"
   ]
  },
  {
   "cell_type": "code",
   "execution_count": 29,
   "id": "4535f6b9",
   "metadata": {},
   "outputs": [
    {
     "data": {
      "image/png": "[encoded data removed]",
      "text/plain": [
       "<Figure size 640x480 with 1 Axes>"
      ]
     },
     "metadata": {},
     "output_type": "display_data"
    }
   ],
   "source": [
    "X_test = combined_3.drop('0', axis=1)\n",
    "y_test = combined_3['0']\n",
    "\n",
    "sb.countplot(data=pd.DataFrame(y_test), x='0')\n",
    "plt.show()"
   ]
  },
  {
   "cell_type": "code",
   "execution_count": 30,
   "id": "4a69d504",
   "metadata": {},
   "outputs": [],
   "source": [
    "smote = SMOTE(random_state=42)\n",
    "X_test, y_test = smote.fit_resample(X_test, y_test)"
   ]
  },
  {
   "cell_type": "code",
   "execution_count": 31,
   "id": "87ad8117",
   "metadata": {},
   "outputs": [
    {
     "data": {
      "image/png": "[encoded data removed]",
      "text/plain": [
       "<Figure size 640x480 with 1 Axes>"
      ]
     },
     "metadata": {},
     "output_type": "display_data"
    }
   ],
   "source": [
    "sb.countplot(data=pd.DataFrame(y_test), x='0')\n",
    "plt.show()"
   ]
  },
  {
   "cell_type": "code",
   "execution_count": 32,
   "id": "5dc7dbde",
   "metadata": {},
   "outputs": [],
   "source": [
    "scaler = StandardScaler()\n",
    "\n",
    "X_test = scaler.fit_transform(X_test)"
   ]
  },
  {
   "cell_type": "code",
   "execution_count": 33,
   "id": "c93ab12a",
   "metadata": {},
   "outputs": [],
   "source": [
    "y_pred = model.predict(X_test)"
   ]
  },
  {
   "cell_type": "code",
   "execution_count": 34,
   "id": "0bb8d93c",
   "metadata": {},
   "outputs": [
    {
     "data": {
      "text/plain": [
       "0.8853809196980096"
      ]
     },
     "execution_count": 34,
     "metadata": {},
     "output_type": "execute_result"
    }
   ],
   "source": [
    "sensitivity = confusion_matrix(y_test,y_pred)[1][1]/(confusion_matrix(y_test,y_pred)[1][1] + confusion_matrix(y_test,y_pred)[1][0])\n",
    "sensitivity"
   ]
  },
  {
   "cell_type": "code",
   "execution_count": 35,
   "id": "a588084e",
   "metadata": {},
   "outputs": [
    {
     "data": {
      "text/plain": [
       "0.8894989704873026"
      ]
     },
     "execution_count": 35,
     "metadata": {},
     "output_type": "execute_result"
    }
   ],
   "source": [
    "specificity = confusion_matrix(y_test,y_pred)[0][0]/(confusion_matrix(y_test,y_pred)[0][0] + confusion_matrix(y_test,y_pred)[0][1])\n",
    "specificity"
   ]
  },
  {
   "cell_type": "code",
   "execution_count": 36,
   "id": "536e7db4",
   "metadata": {},
   "outputs": [
    {
     "data": {
      "text/html": [
       "<div>\n",
       "<style scoped>\n",
       "    .dataframe tbody tr th:only-of-type {\n",
       "        vertical-align: middle;\n",
       "    }\n",
       "\n",
       "    .dataframe tbody tr th {\n",
       "        vertical-align: top;\n",
       "    }\n",
       "\n",
       "    .dataframe thead th {\n",
       "        text-align: right;\n",
       "    }\n",
       "</style>\n",
       "<table border=\"1\" class=\"dataframe\">\n",
       "  <thead>\n",
       "    <tr style=\"text-align: right;\">\n",
       "      <th></th>\n",
       "      <th>0</th>\n",
       "      <th>mean_A_F</th>\n",
       "      <th>max_A_F</th>\n",
       "      <th>min_A_F</th>\n",
       "      <th>var_A_F</th>\n",
       "      <th>std_A_F</th>\n",
       "      <th>rms_A_F</th>\n",
       "      <th>mav_A_F</th>\n",
       "      <th>zcr_A_F</th>\n",
       "      <th>p2p_A_F</th>\n",
       "      <th>...</th>\n",
       "      <th>spectral_kurtosis_T_F</th>\n",
       "      <th>bandpower_T_F</th>\n",
       "      <th>PSD_T_V</th>\n",
       "      <th>spectral_spread_T_V</th>\n",
       "      <th>spectral_kurtosis_T_V</th>\n",
       "      <th>bandpower_T_V</th>\n",
       "      <th>PSD_T_L</th>\n",
       "      <th>spectral_spread_T_L</th>\n",
       "      <th>spectral_kurtosis_T_L</th>\n",
       "      <th>bandpower_T_L</th>\n",
       "    </tr>\n",
       "  </thead>\n",
       "  <tbody>\n",
       "    <tr>\n",
       "      <th>1</th>\n",
       "      <td>0</td>\n",
       "      <td>-95.714844</td>\n",
       "      <td>-60</td>\n",
       "      <td>-131</td>\n",
       "      <td>156.219467</td>\n",
       "      <td>12.498779</td>\n",
       "      <td>96.527461</td>\n",
       "      <td>95.714844</td>\n",
       "      <td>0.0</td>\n",
       "      <td>71</td>\n",
       "      <td>...</td>\n",
       "      <td>4.914410</td>\n",
       "      <td>532.741891</td>\n",
       "      <td>849.656405</td>\n",
       "      <td>8.920130</td>\n",
       "      <td>-0.380944</td>\n",
       "      <td>209.844824</td>\n",
       "      <td>1070.765469</td>\n",
       "      <td>9.676939</td>\n",
       "      <td>-0.476930</td>\n",
       "      <td>276.233538</td>\n",
       "    </tr>\n",
       "    <tr>\n",
       "      <th>2</th>\n",
       "      <td>0</td>\n",
       "      <td>-83.042969</td>\n",
       "      <td>-50</td>\n",
       "      <td>-111</td>\n",
       "      <td>149.017685</td>\n",
       "      <td>12.207280</td>\n",
       "      <td>83.935406</td>\n",
       "      <td>83.042969</td>\n",
       "      <td>0.0</td>\n",
       "      <td>61</td>\n",
       "      <td>...</td>\n",
       "      <td>1.449627</td>\n",
       "      <td>805.196574</td>\n",
       "      <td>1977.613808</td>\n",
       "      <td>8.103423</td>\n",
       "      <td>-0.649612</td>\n",
       "      <td>498.543348</td>\n",
       "      <td>1856.303467</td>\n",
       "      <td>9.143565</td>\n",
       "      <td>-1.041201</td>\n",
       "      <td>467.964242</td>\n",
       "    </tr>\n",
       "    <tr>\n",
       "      <th>3</th>\n",
       "      <td>0</td>\n",
       "      <td>-81.265625</td>\n",
       "      <td>-40</td>\n",
       "      <td>-121</td>\n",
       "      <td>277.827881</td>\n",
       "      <td>16.668170</td>\n",
       "      <td>82.957397</td>\n",
       "      <td>81.265625</td>\n",
       "      <td>0.0</td>\n",
       "      <td>81</td>\n",
       "      <td>...</td>\n",
       "      <td>2.797805</td>\n",
       "      <td>325.282907</td>\n",
       "      <td>1077.001491</td>\n",
       "      <td>7.501505</td>\n",
       "      <td>0.595910</td>\n",
       "      <td>268.022020</td>\n",
       "      <td>1444.601883</td>\n",
       "      <td>9.813800</td>\n",
       "      <td>-0.421680</td>\n",
       "      <td>380.804159</td>\n",
       "    </tr>\n",
       "    <tr>\n",
       "      <th>4</th>\n",
       "      <td>0</td>\n",
       "      <td>-60.742188</td>\n",
       "      <td>-30</td>\n",
       "      <td>-90</td>\n",
       "      <td>117.027283</td>\n",
       "      <td>10.817915</td>\n",
       "      <td>61.697979</td>\n",
       "      <td>60.742188</td>\n",
       "      <td>0.0</td>\n",
       "      <td>60</td>\n",
       "      <td>...</td>\n",
       "      <td>-0.674269</td>\n",
       "      <td>96.429962</td>\n",
       "      <td>473.338349</td>\n",
       "      <td>9.259800</td>\n",
       "      <td>-1.073804</td>\n",
       "      <td>119.481099</td>\n",
       "      <td>947.451274</td>\n",
       "      <td>10.607594</td>\n",
       "      <td>-1.058156</td>\n",
       "      <td>249.157521</td>\n",
       "    </tr>\n",
       "    <tr>\n",
       "      <th>5</th>\n",
       "      <td>0</td>\n",
       "      <td>-53.359375</td>\n",
       "      <td>-20</td>\n",
       "      <td>-90</td>\n",
       "      <td>116.058350</td>\n",
       "      <td>10.773038</td>\n",
       "      <td>54.436029</td>\n",
       "      <td>53.359375</td>\n",
       "      <td>0.0</td>\n",
       "      <td>70</td>\n",
       "      <td>...</td>\n",
       "      <td>-0.636243</td>\n",
       "      <td>103.702166</td>\n",
       "      <td>458.116405</td>\n",
       "      <td>9.738701</td>\n",
       "      <td>-0.777810</td>\n",
       "      <td>115.115045</td>\n",
       "      <td>1034.192003</td>\n",
       "      <td>10.887444</td>\n",
       "      <td>-1.158891</td>\n",
       "      <td>276.243192</td>\n",
       "    </tr>\n",
       "    <tr>\n",
       "      <th>...</th>\n",
       "      <td>...</td>\n",
       "      <td>...</td>\n",
       "      <td>...</td>\n",
       "      <td>...</td>\n",
       "      <td>...</td>\n",
       "      <td>...</td>\n",
       "      <td>...</td>\n",
       "      <td>...</td>\n",
       "      <td>...</td>\n",
       "      <td>...</td>\n",
       "      <td>...</td>\n",
       "      <td>...</td>\n",
       "      <td>...</td>\n",
       "      <td>...</td>\n",
       "      <td>...</td>\n",
       "      <td>...</td>\n",
       "      <td>...</td>\n",
       "      <td>...</td>\n",
       "      <td>...</td>\n",
       "      <td>...</td>\n",
       "      <td>...</td>\n",
       "    </tr>\n",
       "    <tr>\n",
       "      <th>1859</th>\n",
       "      <td>1</td>\n",
       "      <td>-135.632812</td>\n",
       "      <td>1161</td>\n",
       "      <td>-1454</td>\n",
       "      <td>59623.333923</td>\n",
       "      <td>244.178897</td>\n",
       "      <td>279.319877</td>\n",
       "      <td>200.734375</td>\n",
       "      <td>13.5</td>\n",
       "      <td>2615</td>\n",
       "      <td>...</td>\n",
       "      <td>1.940561</td>\n",
       "      <td>16603.822956</td>\n",
       "      <td>60251.779016</td>\n",
       "      <td>6.392922</td>\n",
       "      <td>1.193143</td>\n",
       "      <td>15029.837176</td>\n",
       "      <td>49621.209384</td>\n",
       "      <td>8.986113</td>\n",
       "      <td>-0.795741</td>\n",
       "      <td>12329.382860</td>\n",
       "    </tr>\n",
       "    <tr>\n",
       "      <th>1860</th>\n",
       "      <td>1</td>\n",
       "      <td>-203.246094</td>\n",
       "      <td>1303</td>\n",
       "      <td>-1666</td>\n",
       "      <td>140906.107407</td>\n",
       "      <td>375.374623</td>\n",
       "      <td>426.866586</td>\n",
       "      <td>314.519531</td>\n",
       "      <td>11.5</td>\n",
       "      <td>2969</td>\n",
       "      <td>...</td>\n",
       "      <td>5.290611</td>\n",
       "      <td>17567.711984</td>\n",
       "      <td>58701.641350</td>\n",
       "      <td>5.025412</td>\n",
       "      <td>2.946100</td>\n",
       "      <td>15140.837601</td>\n",
       "      <td>49453.344742</td>\n",
       "      <td>6.134160</td>\n",
       "      <td>1.757759</td>\n",
       "      <td>12570.759246</td>\n",
       "    </tr>\n",
       "    <tr>\n",
       "      <th>1861</th>\n",
       "      <td>1</td>\n",
       "      <td>-175.855469</td>\n",
       "      <td>1070</td>\n",
       "      <td>-616</td>\n",
       "      <td>20343.678329</td>\n",
       "      <td>142.631267</td>\n",
       "      <td>226.426200</td>\n",
       "      <td>197.253906</td>\n",
       "      <td>5.0</td>\n",
       "      <td>1686</td>\n",
       "      <td>...</td>\n",
       "      <td>12.686833</td>\n",
       "      <td>5156.228430</td>\n",
       "      <td>13451.851567</td>\n",
       "      <td>5.063008</td>\n",
       "      <td>5.243563</td>\n",
       "      <td>3432.880857</td>\n",
       "      <td>14002.005318</td>\n",
       "      <td>8.652820</td>\n",
       "      <td>-0.294055</td>\n",
       "      <td>3761.863737</td>\n",
       "    </tr>\n",
       "    <tr>\n",
       "      <th>1862</th>\n",
       "      <td>1</td>\n",
       "      <td>-172.621094</td>\n",
       "      <td>2454</td>\n",
       "      <td>-4767</td>\n",
       "      <td>299216.282211</td>\n",
       "      <td>547.006656</td>\n",
       "      <td>573.597702</td>\n",
       "      <td>295.480469</td>\n",
       "      <td>14.5</td>\n",
       "      <td>7221</td>\n",
       "      <td>...</td>\n",
       "      <td>5.039818</td>\n",
       "      <td>11662.499556</td>\n",
       "      <td>37356.913347</td>\n",
       "      <td>5.857129</td>\n",
       "      <td>1.413772</td>\n",
       "      <td>9352.659009</td>\n",
       "      <td>37946.566544</td>\n",
       "      <td>9.357364</td>\n",
       "      <td>-0.527445</td>\n",
       "      <td>9563.633522</td>\n",
       "    </tr>\n",
       "    <tr>\n",
       "      <th>1863</th>\n",
       "      <td>1</td>\n",
       "      <td>-92.656250</td>\n",
       "      <td>2535</td>\n",
       "      <td>-4989</td>\n",
       "      <td>385985.366211</td>\n",
       "      <td>621.277206</td>\n",
       "      <td>628.148507</td>\n",
       "      <td>290.828125</td>\n",
       "      <td>27.5</td>\n",
       "      <td>7524</td>\n",
       "      <td>...</td>\n",
       "      <td>7.470365</td>\n",
       "      <td>21992.367767</td>\n",
       "      <td>74786.913479</td>\n",
       "      <td>5.485994</td>\n",
       "      <td>1.067452</td>\n",
       "      <td>18534.892504</td>\n",
       "      <td>26630.126769</td>\n",
       "      <td>8.156117</td>\n",
       "      <td>0.157824</td>\n",
       "      <td>6557.805594</td>\n",
       "    </tr>\n",
       "  </tbody>\n",
       "</table>\n",
       "<p>1863 rows × 424 columns</p>\n",
       "</div>"
      ],
      "text/plain": [
       "      0    mean_A_F  max_A_F  min_A_F        var_A_F     std_A_F     rms_A_F  \\\n",
       "1     0  -95.714844      -60     -131     156.219467   12.498779   96.527461   \n",
       "2     0  -83.042969      -50     -111     149.017685   12.207280   83.935406   \n",
       "3     0  -81.265625      -40     -121     277.827881   16.668170   82.957397   \n",
       "4     0  -60.742188      -30      -90     117.027283   10.817915   61.697979   \n",
       "5     0  -53.359375      -20      -90     116.058350   10.773038   54.436029   \n",
       "...  ..         ...      ...      ...            ...         ...         ...   \n",
       "1859  1 -135.632812     1161    -1454   59623.333923  244.178897  279.319877   \n",
       "1860  1 -203.246094     1303    -1666  140906.107407  375.374623  426.866586   \n",
       "1861  1 -175.855469     1070     -616   20343.678329  142.631267  226.426200   \n",
       "1862  1 -172.621094     2454    -4767  299216.282211  547.006656  573.597702   \n",
       "1863  1  -92.656250     2535    -4989  385985.366211  621.277206  628.148507   \n",
       "\n",
       "         mav_A_F  zcr_A_F  p2p_A_F  ...  spectral_kurtosis_T_F  bandpower_T_F  \\\n",
       "1      95.714844      0.0       71  ...               4.914410     532.741891   \n",
       "2      83.042969      0.0       61  ...               1.449627     805.196574   \n",
       "3      81.265625      0.0       81  ...               2.797805     325.282907   \n",
       "4      60.742188      0.0       60  ...              -0.674269      96.429962   \n",
       "5      53.359375      0.0       70  ...              -0.636243     103.702166   \n",
       "...          ...      ...      ...  ...                    ...            ...   \n",
       "1859  200.734375     13.5     2615  ...               1.940561   16603.822956   \n",
       "1860  314.519531     11.5     2969  ...               5.290611   17567.711984   \n",
       "1861  197.253906      5.0     1686  ...              12.686833    5156.228430   \n",
       "1862  295.480469     14.5     7221  ...               5.039818   11662.499556   \n",
       "1863  290.828125     27.5     7524  ...               7.470365   21992.367767   \n",
       "\n",
       "           PSD_T_V  spectral_spread_T_V  spectral_kurtosis_T_V  bandpower_T_V  \\\n",
       "1       849.656405             8.920130              -0.380944     209.844824   \n",
       "2      1977.613808             8.103423              -0.649612     498.543348   \n",
       "3      1077.001491             7.501505               0.595910     268.022020   \n",
       "4       473.338349             9.259800              -1.073804     119.481099   \n",
       "5       458.116405             9.738701              -0.777810     115.115045   \n",
       "...            ...                  ...                    ...            ...   \n",
       "1859  60251.779016             6.392922               1.193143   15029.837176   \n",
       "1860  58701.641350             5.025412               2.946100   15140.837601   \n",
       "1861  13451.851567             5.063008               5.243563    3432.880857   \n",
       "1862  37356.913347             5.857129               1.413772    9352.659009   \n",
       "1863  74786.913479             5.485994               1.067452   18534.892504   \n",
       "\n",
       "           PSD_T_L  spectral_spread_T_L  spectral_kurtosis_T_L  bandpower_T_L  \n",
       "1      1070.765469             9.676939              -0.476930     276.233538  \n",
       "2      1856.303467             9.143565              -1.041201     467.964242  \n",
       "3      1444.601883             9.813800              -0.421680     380.804159  \n",
       "4       947.451274            10.607594              -1.058156     249.157521  \n",
       "5      1034.192003            10.887444              -1.158891     276.243192  \n",
       "...            ...                  ...                    ...            ...  \n",
       "1859  49621.209384             8.986113              -0.795741   12329.382860  \n",
       "1860  49453.344742             6.134160               1.757759   12570.759246  \n",
       "1861  14002.005318             8.652820              -0.294055    3761.863737  \n",
       "1862  37946.566544             9.357364              -0.527445    9563.633522  \n",
       "1863  26630.126769             8.156117               0.157824    6557.805594  \n",
       "\n",
       "[1863 rows x 424 columns]"
      ]
     },
     "execution_count": 36,
     "metadata": {},
     "output_type": "execute_result"
    }
   ],
   "source": [
    "time_4=pd.read_csv(r\"C:\\Users\\Admin\\Desktop\\Labelled_Files_1\\features\\time_4.csv\")\n",
    "freq_4=pd.read_csv(r\"C:\\Users\\Admin\\Desktop\\Labelled_Files_1\\features\\freq_4.csv\")\n",
    "\n",
    "combined_4 = pd.concat([time_4, freq_4], axis=1)\n",
    "combined_4=combined_4[combined_4['0']!=2]\n",
    "combined_4.dropna(inplace=True)\n",
    "combined_4"
   ]
  },
  {
   "cell_type": "code",
   "execution_count": 37,
   "id": "5ad5a2cb",
   "metadata": {},
   "outputs": [
    {
     "data": {
      "image/png": "[encoded data removed]",
      "text/plain": [
       "<Figure size 640x480 with 1 Axes>"
      ]
     },
     "metadata": {},
     "output_type": "display_data"
    }
   ],
   "source": [
    "X_test = combined_4.drop('0', axis=1)\n",
    "y_test = combined_4['0']\n",
    "\n",
    "sb.countplot(data=pd.DataFrame(y_test), x='0')\n",
    "plt.show()"
   ]
  },
  {
   "cell_type": "code",
   "execution_count": 38,
   "id": "75aeb8d8",
   "metadata": {},
   "outputs": [],
   "source": [
    "smote = SMOTE(random_state=42)\n",
    "X_test, y_test = smote.fit_resample(X_test, y_test)"
   ]
  },
  {
   "cell_type": "code",
   "execution_count": 39,
   "id": "f6281ca3",
   "metadata": {},
   "outputs": [
    {
     "data": {
      "image/png": "[encoded data removed]",
      "text/plain": [
       "<Figure size 640x480 with 1 Axes>"
      ]
     },
     "metadata": {},
     "output_type": "display_data"
    }
   ],
   "source": [
    "sb.countplot(data=pd.DataFrame(y_test), x='0')\n",
    "plt.show()"
   ]
  },
  {
   "cell_type": "code",
   "execution_count": 40,
   "id": "fae4c20f",
   "metadata": {},
   "outputs": [],
   "source": [
    "scaler = StandardScaler()\n",
    "\n",
    "X_test = scaler.fit_transform(X_test)"
   ]
  },
  {
   "cell_type": "code",
   "execution_count": 41,
   "id": "8513d312",
   "metadata": {},
   "outputs": [],
   "source": [
    "y_pred = model.predict(X_test)"
   ]
  },
  {
   "cell_type": "code",
   "execution_count": 42,
   "id": "7388ea24",
   "metadata": {},
   "outputs": [
    {
     "data": {
      "text/plain": [
       "0.9042627533193571"
      ]
     },
     "execution_count": 42,
     "metadata": {},
     "output_type": "execute_result"
    }
   ],
   "source": [
    "sensitivity = confusion_matrix(y_test,y_pred)[1][1]/(confusion_matrix(y_test,y_pred)[1][1] + confusion_matrix(y_test,y_pred)[1][0])\n",
    "sensitivity"
   ]
  },
  {
   "cell_type": "code",
   "execution_count": 43,
   "id": "9a085e5c",
   "metadata": {},
   "outputs": [
    {
     "data": {
      "text/plain": [
       "0.8902865129280224"
      ]
     },
     "execution_count": 43,
     "metadata": {},
     "output_type": "execute_result"
    }
   ],
   "source": [
    "specificity = confusion_matrix(y_test,y_pred)[0][0]/(confusion_matrix(y_test,y_pred)[0][0] + confusion_matrix(y_test,y_pred)[0][1])\n",
    "specificity"
   ]
  },
  {
   "cell_type": "code",
   "execution_count": null,
   "id": "c7bd3428",
   "metadata": {},
   "outputs": [],
   "source": []
  }
 ],
 "metadata": {
  "kernelspec": {
   "display_name": "bright",
   "language": "python",
   "name": "bright"
  },
  "language_info": {
   "codemirror_mode": {
    "name": "ipython",
    "version": 3
   },
   "file_extension": ".py",
   "mimetype": "text/x-python",
   "name": "python",
   "nbconvert_exporter": "python",
   "pygments_lexer": "ipython3",
   "version": "3.10.9"
  }
 },
 "nbformat": 4,
 "nbformat_minor": 5
}
